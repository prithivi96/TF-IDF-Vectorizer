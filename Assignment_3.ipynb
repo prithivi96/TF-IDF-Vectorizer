{
  "nbformat": 4,
  "nbformat_minor": 0,
  "metadata": {
    "colab": {
      "name": "Assignment 3",
      "provenance": [],
      "collapsed_sections": [],
      "include_colab_link": true
    },
    "kernelspec": {
      "display_name": "Python 3",
      "language": "python",
      "name": "python3"
    },
    "language_info": {
      "codemirror_mode": {
        "name": "ipython",
        "version": 3
      },
      "file_extension": ".py",
      "mimetype": "text/x-python",
      "name": "python",
      "nbconvert_exporter": "python",
      "pygments_lexer": "ipython3",
      "version": "3.7.1"
    }
  },
  "cells": [
    {
      "cell_type": "markdown",
      "metadata": {
        "id": "view-in-github",
        "colab_type": "text"
      },
      "source": [
        "<a href=\"https://colab.research.google.com/github/prithivi96/TF-IDF-Vectorizer/blob/main/Assignment_3.ipynb\" target=\"_parent\"><img src=\"https://colab.research.google.com/assets/colab-badge.svg\" alt=\"Open In Colab\"/></a>"
      ]
    },
    {
      "cell_type": "markdown",
      "metadata": {
        "id": "h9464I-uxLiw"
      },
      "source": [
        "# Assignment"
      ]
    },
    {
      "cell_type": "markdown",
      "metadata": {
        "id": "IvLvmewlxLix"
      },
      "source": [
        "<font face='georgia'>\n",
        "    \n",
        "   <h4><strong>What does tf-idf mean?</strong></h4>\n",
        "\n",
        "   <p>    \n",
        "Tf-idf stands for <em>term frequency-inverse document frequency</em>, and the tf-idf weight is a weight often used in information retrieval and text mining. This weight is a statistical measure used to evaluate how important a word is to a document in a collection or corpus. The importance increases proportionally to the number of times a word appears in the document but is offset by the frequency of the word in the corpus. Variations of the tf-idf weighting scheme are often used by search engines as a central tool in scoring and ranking a document's relevance given a user query.\n",
        "</p>\n",
        "    \n",
        "   <p>\n",
        "One of the simplest ranking functions is computed by summing the tf-idf for each query term; many more sophisticated ranking functions are variants of this simple model.\n",
        "</p>\n",
        "    \n",
        "   <p>\n",
        "Tf-idf can be successfully used for stop-words filtering in various subject fields including text summarization and classification.\n",
        "</p>\n",
        "    \n",
        "</font>"
      ]
    },
    {
      "cell_type": "markdown",
      "metadata": {
        "id": "4XLaGFUMxLiy"
      },
      "source": [
        "<font face='georgia'>\n",
        "    <h4><strong>How to Compute:</strong></h4>\n",
        "\n",
        "Typically, the tf-idf weight is composed by two terms: the first computes the normalized Term Frequency (TF), aka. the number of times a word appears in a document, divided by the total number of words in that document; the second term is the Inverse Document Frequency (IDF), computed as the logarithm of the number of the documents in the corpus divided by the number of documents where the specific term appears.\n",
        "\n",
        " <ul>\n",
        "    <li>\n",
        "<strong>TF:</strong> Term Frequency, which measures how frequently a term occurs in a document. Since every document is different in length, it is possible that a term would appear much more times in long documents than shorter ones. Thus, the term frequency is often divided by the document length (aka. the total number of terms in the document) as a way of normalization: <br>\n",
        "\n",
        "$TF(t) = \\frac{\\text{Number of times term t appears in a document}}{\\text{Total number of terms in the document}}.$\n",
        "</li>\n",
        "<li>\n",
        "<strong>IDF:</strong> Inverse Document Frequency, which measures how important a term is. While computing TF, all terms are considered equally important. However it is known that certain terms, such as \"is\", \"of\", and \"that\", may appear a lot of times but have little importance. Thus we need to weigh down the frequent terms while scale up the rare ones, by computing the following: <br>\n",
        "\n",
        "$IDF(t) = \\log_{e}\\frac{\\text{Total  number of documents}} {\\text{Number of documents with term t in it}}.$\n",
        "for numerical stabiltiy we will be changing this formula little bit\n",
        "$IDF(t) = \\log_{e}\\frac{\\text{Total  number of documents}} {\\text{Number of documents with term t in it}+1}.$\n",
        "</li>\n",
        "</ul>\n",
        "\n",
        "<br>\n",
        "<h4><strong>Example</strong></h4>\n",
        "<p>\n",
        "\n",
        "Consider a document containing 100 words wherein the word cat appears 3 times. The term frequency (i.e., tf) for cat is then (3 / 100) = 0.03. Now, assume we have 10 million documents and the word cat appears in one thousand of these. Then, the inverse document frequency (i.e., idf) is calculated as log(10,000,000 / 1,000) = 4. Thus, the Tf-idf weight is the product of these quantities: 0.03 * 4 = 0.12.\n",
        "</p>\n",
        "</font>"
      ]
    },
    {
      "cell_type": "markdown",
      "metadata": {
        "id": "dg2ooa4DxLiz"
      },
      "source": [
        "## Task-1"
      ]
    },
    {
      "cell_type": "markdown",
      "metadata": {
        "id": "TAcTjhO8xLiz"
      },
      "source": [
        "<font face='georgia'>\n",
        "    <h4><strong>1. Build a TFIDF Vectorizer & compare its results with Sklearn:</strong></h4>\n",
        "\n",
        "<ul>\n",
        "    <li> As a part of this task you will be implementing TFIDF vectorizer on a collection of text documents.</li>\n",
        "    <br>\n",
        "    <li> You should compare the results of your own implementation of TFIDF vectorizer with that of sklearns implemenation TFIDF vectorizer.</li>\n",
        "    <br>\n",
        "    <li> Sklearn does few more tweaks in the implementation of its version of TFIDF vectorizer, so to replicate the exact results you would need to add following things to your custom implementation of tfidf vectorizer:\n",
        "       <ol>\n",
        "        <li> Sklearn has its vocabulary generated from idf sroted in alphabetical order</li>\n",
        "        <li> Sklearn formula of idf is different from the standard textbook formula. Here the constant <strong>\"1\"</strong> is added to the numerator and denominator of the idf as if an extra document was seen containing every term in the collection exactly once, which prevents zero divisions.\n",
        "            \n",
        " $IDF(t) = 1+\\log_{e}\\frac{1\\text{ }+\\text{ Total  number of documents in collection}} {1+\\text{Number of documents with term t in it}}.$\n",
        "        </li>\n",
        "        <li> Sklearn applies L2-normalization on its output matrix.</li>\n",
        "        <li> The final output of sklearn tfidf vectorizer is a sparse matrix.</li>\n",
        "    </ol>\n",
        "    <br>\n",
        "    <li>Steps to approach this task:\n",
        "    <ol>\n",
        "        <li> You would have to write both fit and transform methods for your custom implementation of tfidf vectorizer.</li>\n",
        "        <li> Print out the alphabetically sorted voacb after you fit your data and check if its the same as that of the feature names from sklearn tfidf vectorizer. </li>\n",
        "        <li> Print out the idf values from your implementation and check if its the same as that of sklearns tfidf vectorizer idf values. </li>\n",
        "        <li> Once you get your voacb and idf values to be same as that of sklearns implementation of tfidf vectorizer, proceed to the below steps. </li>\n",
        "        <li> Make sure the output of your implementation is a sparse matrix. Before generating the final output, you need to normalize your sparse matrix using L2 normalization. You can refer to this link https://scikit-learn.org/stable/modules/generated/sklearn.preprocessing.normalize.html </li>\n",
        "        <li> After completing the above steps, print the output of your custom implementation and compare it with sklearns implementation of tfidf vectorizer.</li>\n",
        "        <li> To check the output of a single document in your collection of documents,  you can convert the sparse matrix related only to that document into dense matrix and print it.</li>\n",
        "        </ol>\n",
        "    </li>\n",
        "    <br>\n",
        "   </ul>\n",
        "\n",
        "  <p> <font color=\"#e60000\"><strong>Note-1: </strong></font> All the necessary outputs of sklearns tfidf vectorizer have been provided as reference in this notebook, you can compare your outputs as mentioned in the above steps, with these outputs.<br>\n",
        "   <font color=\"#e60000\"><strong>Note-2: </strong></font> The output of your custom implementation and that of sklearns implementation would match only with the collection of document strings provided to you as reference in this notebook. It would not match for strings that contain capital letters or punctuations, etc, because sklearn version of tfidf vectorizer deals with such strings in a different way. To know further details about how sklearn tfidf vectorizer works with such string, you can always refer to its official documentation.<br>\n",
        "   <font color=\"#e60000\"><strong>Note-3: </strong></font> During this task, it would be helpful for you to debug the code you write with print statements wherever necessary. But when you are finally submitting the assignment, make sure your code is readable and try not to print things which are not part of this task.\n",
        "    </p>"
      ]
    },
    {
      "cell_type": "markdown",
      "metadata": {
        "id": "OnV82tg1xLi0"
      },
      "source": [
        "### Corpus"
      ]
    },
    {
      "cell_type": "code",
      "metadata": {
        "id": "bUsYm9wjxLi1"
      },
      "source": [
        "## SkLearn# Collection of string documents\n",
        "\n",
        "corpus = [\n",
        "     'this is the first document',\n",
        "     'this document is the second document',\n",
        "     'and this is the third one',\n",
        "     'is this the first document',\n",
        "]"
      ],
      "execution_count": 1,
      "outputs": []
    },
    {
      "cell_type": "markdown",
      "metadata": {
        "id": "eLwmFZfKxLi4"
      },
      "source": [
        "### SkLearn Implementation"
      ]
    },
    {
      "cell_type": "code",
      "metadata": {
        "id": "Np4dfQOkxLi4"
      },
      "source": [
        "from sklearn.feature_extraction.text import TfidfVectorizer\n",
        "vectorizer = TfidfVectorizer()\n",
        "vectorizer.fit(corpus)\n",
        "skl_output = vectorizer.transform(corpus)"
      ],
      "execution_count": 2,
      "outputs": []
    },
    {
      "cell_type": "code",
      "metadata": {
        "id": "-7Om8YpYxLi6",
        "colab": {
          "base_uri": "https://localhost:8080/"
        },
        "outputId": "7a0f8d08-8ef5-41ff-e591-42bc3c0c6438"
      },
      "source": [
        "# sklearn feature names, they are sorted in alphabetic order by default.\n",
        "\n",
        "print(vectorizer.get_feature_names())"
      ],
      "execution_count": 3,
      "outputs": [
        {
          "output_type": "stream",
          "text": [
            "['and', 'document', 'first', 'is', 'one', 'second', 'the', 'third', 'this']\n"
          ],
          "name": "stdout"
        }
      ]
    },
    {
      "cell_type": "code",
      "metadata": {
        "id": "dTKplK96xLi-",
        "colab": {
          "base_uri": "https://localhost:8080/"
        },
        "outputId": "bd16e610-3c62-41eb-ca34-8fe7d3363e4e"
      },
      "source": [
        "# Here we will print the sklearn tfidf vectorizer idf values after applying the fit method\n",
        "# After using the fit function on the corpus the vocab has 9 words in it, and each has its idf value.\n",
        "\n",
        "print(vectorizer.idf_)"
      ],
      "execution_count": 4,
      "outputs": [
        {
          "output_type": "stream",
          "text": [
            "[1.91629073 1.22314355 1.51082562 1.         1.91629073 1.91629073\n",
            " 1.         1.91629073 1.        ]\n"
          ],
          "name": "stdout"
        }
      ]
    },
    {
      "cell_type": "code",
      "metadata": {
        "id": "-CTiWHygxLjA",
        "colab": {
          "base_uri": "https://localhost:8080/"
        },
        "outputId": "f84d909a-e2e9-4858-bfc7-f9a82a7e303d"
      },
      "source": [
        "# shape of sklearn tfidf vectorizer output after applying transform method.\n",
        "\n",
        "skl_output.shape"
      ],
      "execution_count": 5,
      "outputs": [
        {
          "output_type": "execute_result",
          "data": {
            "text/plain": [
              "(4, 9)"
            ]
          },
          "metadata": {
            "tags": []
          },
          "execution_count": 5
        }
      ]
    },
    {
      "cell_type": "code",
      "metadata": {
        "id": "bDKEpbA-xLjD",
        "colab": {
          "base_uri": "https://localhost:8080/"
        },
        "outputId": "72e8ba51-cc00-4f3a-a985-45c40886e7cc"
      },
      "source": [
        "# sklearn tfidf values for first line of the above corpus.\n",
        "# Here the output is a sparse matrix\n",
        "\n",
        "print(skl_output[0])"
      ],
      "execution_count": 6,
      "outputs": [
        {
          "output_type": "stream",
          "text": [
            "  (0, 8)\t0.38408524091481483\n",
            "  (0, 6)\t0.38408524091481483\n",
            "  (0, 3)\t0.38408524091481483\n",
            "  (0, 2)\t0.5802858236844359\n",
            "  (0, 1)\t0.46979138557992045\n"
          ],
          "name": "stdout"
        }
      ]
    },
    {
      "cell_type": "code",
      "metadata": {
        "id": "3QWo34hexLjF",
        "colab": {
          "base_uri": "https://localhost:8080/"
        },
        "outputId": "5e1b1640-12fc-4048-a290-d0651bf126d7"
      },
      "source": [
        "# sklearn tfidf values for first line of the above corpus.\n",
        "# To understand the output better, here we are converting the sparse output matrix to dense matrix and printing it.\n",
        "# Notice that this output is normalized using L2 normalization. sklearn does this by default.\n",
        "\n",
        "print(skl_output[0].toarray())"
      ],
      "execution_count": 7,
      "outputs": [
        {
          "output_type": "stream",
          "text": [
            "[[0.         0.46979139 0.58028582 0.38408524 0.         0.\n",
            "  0.38408524 0.         0.38408524]]\n"
          ],
          "name": "stdout"
        }
      ]
    },
    {
      "cell_type": "markdown",
      "metadata": {
        "id": "qfIwx5LzxLjI"
      },
      "source": [
        "### Your custom implementation"
      ]
    },
    {
      "cell_type": "code",
      "metadata": {
        "id": "HjuCcJwXxLjJ"
      },
      "source": [
        "# Write your code here.\n",
        "# Make sure its well documented and readble with appropriate comments.\n",
        "# Compare your results with the above sklearn tfidf vectorizer\n",
        "# You are not supposed to use any other library apart from the ones given below\n",
        "\n",
        "from collections import Counter\n",
        "from tqdm import tqdm\n",
        "from scipy.sparse import csr_matrix\n",
        "import math\n",
        "import operator\n",
        "from sklearn.preprocessing import normalize\n",
        "import numpy\n",
        "\n",
        "def fit(dataset):\n",
        "  unique_words = set()\n",
        "  if isinstance(dataset,list):\n",
        "    for sentence in dataset:\n",
        "      for word in sentence.split(\" \"):\n",
        "        if len(word)<2:\n",
        "          continue\n",
        "        unique_words.add(word)\n",
        "    unique_words = sorted(list(unique_words))\n",
        "    vocab = {j:i for i,j in enumerate(unique_words)}\n",
        "    return vocab\n",
        "  else:\n",
        "    print(\"Pass list of words \")\n",
        "\n"
      ],
      "execution_count": 8,
      "outputs": []
    },
    {
      "cell_type": "code",
      "metadata": {
        "id": "3FSa1secmdUh"
      },
      "source": [
        "sdict = fit(corpus)"
      ],
      "execution_count": 9,
      "outputs": []
    },
    {
      "cell_type": "code",
      "metadata": {
        "colab": {
          "base_uri": "https://localhost:8080/"
        },
        "id": "geGHn2nINAhc",
        "outputId": "d0e333d2-6536-4397-f909-d20e6662e3a7"
      },
      "source": [
        "print(sdict.keys())"
      ],
      "execution_count": 10,
      "outputs": [
        {
          "output_type": "stream",
          "text": [
            "dict_keys(['and', 'document', 'first', 'is', 'one', 'second', 'the', 'third', 'this'])\n"
          ],
          "name": "stdout"
        }
      ]
    },
    {
      "cell_type": "code",
      "metadata": {
        "colab": {
          "base_uri": "https://localhost:8080/"
        },
        "id": "d7kE8nXMqM47",
        "outputId": "6eb09ab6-fdc7-4cc0-c52d-0dc3ca69df7b"
      },
      "source": [
        "def transform(dataset,vocab):\n",
        "  rows =[]\n",
        "  columns = []\n",
        "  values = []\n",
        "  tf = 0\n",
        "  idf = 0\n",
        "  test =[]\n",
        "  def idf(dataset,word):\n",
        "    count = 0\n",
        "    for sent in dataset:\n",
        "      if word in sent.split(' '):\n",
        "        count +=1\n",
        "    return (1+math.log((1+len(dataset))/(1+count)))\n",
        "\n",
        "  if isinstance(dataset,(list,)):\n",
        "    for idx,row in enumerate(tqdm(dataset)):\n",
        "      word_freq = dict(Counter(row.split()))\n",
        "      # print(len(word_freq.keys()))\n",
        "      for word,freq in word_freq.items():\n",
        "        if len(word) <2:\n",
        "          continue\n",
        "        col_index = vocab.get(word,-1)\n",
        "        if (col_index != -1) and (word not in test):\n",
        "          tf = freq/len(row.split(' '))\n",
        "          idf_v = idf(dataset,word)\n",
        "          test.append(word)\n",
        "          # print(word,\":\",tf,\":\",idf_v)\n",
        "          # print(word,\":\",(tf*idf_v),':',idx,\":\",col_index)\n",
        "          rows.append(idx)\n",
        "          columns.append(col_index)\n",
        "          values.append(tf*idf_v)\n",
        "    csmatrix = csr_matrix((values, (rows,columns)), shape=(len(dataset),len(vocab)))\n",
        "    return normalize(csmatrix, norm='l2', axis=1, copy=True, return_norm=False)\n",
        "  else:\n",
        "    print(\"you need to pass list of strings\")\n",
        "        # print(word,':',freq,\":\",len(row.split(' ')))\n",
        "        # print(word,':',tf)\n",
        "      \n",
        "\n",
        "skloutput = transform(corpus,sdict)"
      ],
      "execution_count": 11,
      "outputs": [
        {
          "output_type": "stream",
          "text": [
            "100%|██████████| 4/4 [00:00<00:00, 1806.92it/s]\n"
          ],
          "name": "stderr"
        }
      ]
    },
    {
      "cell_type": "code",
      "metadata": {
        "colab": {
          "base_uri": "https://localhost:8080/"
        },
        "id": "JCK3Iam4nfJ1",
        "outputId": "65ca4885-3a2e-436e-e4ef-2d1954039b0d"
      },
      "source": [
        "skloutput.shape"
      ],
      "execution_count": 12,
      "outputs": [
        {
          "output_type": "execute_result",
          "data": {
            "text/plain": [
              "(4, 9)"
            ]
          },
          "metadata": {
            "tags": []
          },
          "execution_count": 12
        }
      ]
    },
    {
      "cell_type": "code",
      "metadata": {
        "colab": {
          "base_uri": "https://localhost:8080/"
        },
        "id": "DeYO9CRxObAj",
        "outputId": "c9796065-20c9-40ee-ede3-a0ffb0ac6202"
      },
      "source": [
        "print(skloutput[0])"
      ],
      "execution_count": 13,
      "outputs": [
        {
          "output_type": "stream",
          "text": [
            "  (0, 1)\t0.4697913855799205\n",
            "  (0, 2)\t0.580285823684436\n",
            "  (0, 3)\t0.3840852409148149\n",
            "  (0, 6)\t0.3840852409148149\n",
            "  (0, 8)\t0.3840852409148149\n"
          ],
          "name": "stdout"
        }
      ]
    },
    {
      "cell_type": "code",
      "metadata": {
        "colab": {
          "base_uri": "https://localhost:8080/"
        },
        "id": "YJLhCM20OmSD",
        "outputId": "224f2e5e-42a9-4bda-83af-747c99885ad5"
      },
      "source": [
        "print(skloutput[0].toarray())"
      ],
      "execution_count": 14,
      "outputs": [
        {
          "output_type": "stream",
          "text": [
            "[[0.         0.46979139 0.58028582 0.38408524 0.         0.\n",
            "  0.38408524 0.         0.38408524]]\n"
          ],
          "name": "stdout"
        }
      ]
    },
    {
      "cell_type": "markdown",
      "metadata": {
        "id": "MMxBmVZExLjK"
      },
      "source": [
        "## Task-2"
      ]
    },
    {
      "cell_type": "code",
      "metadata": {
        "colab": {
          "base_uri": "https://localhost:8080/"
        },
        "id": "G7tBeqJyTfoo",
        "outputId": "0ac04a21-e334-4a16-c9eb-8e6cc673a794"
      },
      "source": [
        "from google.colab import drive\n",
        "drive.mount('/content/drive')"
      ],
      "execution_count": 15,
      "outputs": [
        {
          "output_type": "stream",
          "text": [
            "Mounted at /content/drive\n"
          ],
          "name": "stdout"
        }
      ]
    },
    {
      "cell_type": "markdown",
      "metadata": {
        "id": "51j_OtqAxLjL"
      },
      "source": [
        "<font face='georgia'>\n",
        "    <h4><strong>2. Implement max features functionality:</strong></h4>\n",
        "\n",
        "<ul>\n",
        "    <li> As a part of this task you have to modify your fit and transform functions so that your vocab will contain only 50 terms with top idf scores.</li>\n",
        "    <br>\n",
        "    <li>This task is similar to your previous task, just that here your vocabulary is limited to only top 50 features names based on their idf values. Basically your output will have exactly 50 columns and the number of rows will depend on the number of documents you have in your corpus.</li>\n",
        "    <br>\n",
        "    <li>Here you will be give a pickle file, with file name <strong>cleaned_strings</strong>. You would have to load the corpus from this file and use it as input to your tfidf vectorizer.</li>\n",
        "    <br>\n",
        "    <li>Steps to approach this task:\n",
        "    <ol>\n",
        "        <li> You would have to write both fit and transform methods for your custom implementation of tfidf vectorizer, just like in the previous task. Additionally, here you have to limit the number of features generated to 50 as described above.</li>\n",
        "        <li> Now sort your vocab based in descending order of idf values and print out the words in the sorted voacb after you fit your data. Here you should be getting only 50 terms in your vocab. And make sure to print idf values for each term in your vocab. </li>\n",
        "        <li> Make sure the output of your implementation is a sparse matrix. Before generating the final output, you need to normalize your sparse matrix using L2 normalization. You can refer to this link https://scikit-learn.org/stable/modules/generated/sklearn.preprocessing.normalize.html </li>\n",
        "        <li> Now check the output of a single document in your collection of documents,  you can convert the sparse matrix related only to that document into dense matrix and print it. And this dense matrix should contain 1 row and 50 columns. </li>\n",
        "        </ol>\n",
        "    </li>\n",
        "    <br>\n",
        "   </ul>"
      ]
    },
    {
      "cell_type": "code",
      "metadata": {
        "id": "NHxPLlwNxLjL",
        "colab": {
          "base_uri": "https://localhost:8080/"
        },
        "outputId": "29a69b10-1920-4611-f3c5-9df63e060442"
      },
      "source": [
        "# Below is the code to load the cleaned_strings pickle file provided\n",
        "# Here corpus is of list type\n",
        "\n",
        "import pickle\n",
        "with open('/content/drive/MyDrive/Copy of cleaned_strings', 'rb') as f:\n",
        "    corpus = pickle.load(f)\n",
        "    \n",
        "# printing the length of the corpus loaded\n",
        "print(\"Number of documents in corpus = \",len(corpus))"
      ],
      "execution_count": 16,
      "outputs": [
        {
          "output_type": "stream",
          "text": [
            "Number of documents in corpus =  746\n"
          ],
          "name": "stdout"
        }
      ]
    },
    {
      "cell_type": "code",
      "metadata": {
        "colab": {
          "base_uri": "https://localhost:8080/"
        },
        "id": "WRi2ghDwzNEG",
        "outputId": "affd7785-dbc1-40d4-ef33-427e631961eb"
      },
      "source": [
        "#Total number of Unique words in given corpus\n",
        "uniquewords = set()\n",
        "for sent in corpus:\n",
        "  for words in sent.split(' '):\n",
        "    if len(words)<2:\n",
        "      continue\n",
        "    uniquewords.add(words)\n",
        "print(len(uniquewords))\n",
        "print(uniquewords) "
      ],
      "execution_count": 17,
      "outputs": [
        {
          "output_type": "stream",
          "text": [
            "2886\n",
            "{'movies', 'repeated', 'foreign', 'chills', 'elsewhere', 'blare', 'continually', 'clear', 'share', 'parts', 'speed', 'campy', 'animals', 'disbelief', 'embarrassed', 'macbeth', 'unmoving', 'pap', 'emotionally', 'dropped', 'brevity', 'racism', 'earth', 'stuff', 'members', 'expected', 'pleased', 'lost', 'plot', 'places', 'cotton', 'fails', 'together', 'century', 'balance', 'muppets', 'single', 'sci', 'amaze', 'accessible', 'occupied', 'different', 'added', 'believed', 'scared', 'artistic', 'uptight', 'cutest', 'lassie', 'anniversary', 'old', 'showcasing', 'business', 'pleasant', 'teacher', 'songs', 'exciting', 'eccleston', 'realistic', 'extraneous', 'lee', 'becomes', 'fare', 'rare', 'flying', 'tract', 'unless', 'tremendously', 'researched', 'another', 'commented', 'mchattie', 'along', 'sorry', 'taste', 'punches', 'secondly', 'mean', 'disturbing', 'austere', 'prelude', 'dreams', 'wouldnt', 'cause', 'matrix', 'hang', 'alexander', 'worst', 'never', 'lasting', 'towards', 'downs', 'emerge', 'ladies', 'incredible', 'punish', 'marine', 'history', 'leaves', 'drive', 'yun', 'michael', 'sets', 'wondered', 'nor', 'carrell', 'rocked', 'idyllic', 'play', 'indoor', 'ps', 'trysts', 'finished', 'stinker', 'tom', 'flag', 'pray', 'obsessed', 'music', 'enjoy', 'using', 'effect', 'soon', 'monstrous', 'sympathetic', 'supposedly', 'crew', 'distant', 'references', 'oriented', 'surface', 'witticisms', 'barcelona', 'bored', 'represents', 'follows', 'james', 'liked', 'high', 'dialogs', 'depicted', 'watch', 'crazy', 'julian', 'empowerment', 'deep', 'underacting', 'crisp', 'malta', 'hollywood', 'sundays', 'contained', 'suffering', 'tale', 'conrad', 'sandra', 'atrocious', 'aversion', 'incorrectness', 'ups', 'kudos', 'appreciate', 'stars', 'roth', 'march', 'adventure', 'giovanni', 'excuses', 'scrimm', 'meanders', 'dracula', 'moving', 'hearts', 'produced', 'value', 'aged', 'stranger', 'duris', 'finally', 'forces', 'job', 'club', 'gore', 'attempt', 'direction', 'raw', 'easily', 'affected', 'jessica', 'refreshing', 'uninteresting', 'antithesis', 'hollow', 'big', 'crap', 'talented', 'buy', 'improvisation', 'builders', 'minor', 'entirely', 'nearly', 'smiling', 'letting', 'ago', 'instead', 'seen', 'losing', 'trouble', 'memories', 'understanding', 'graphics', 'storm', 'baaaaaad', 'add', 'obliged', 'greatness', 'scot', 'debated', 'soap', 'admiration', 'captain', 'scripts', 'lies', 'win', 'put', 'therapy', 'right', 'cameo', 'small', 'aspects', 'washing', 'hbo', 'robert', 'corn', 'unwatchable', 'mainly', 'relationship', 'mesmerising', 'admitted', 'depending', 'francis', 'actually', 'exteriors', 'cuts', 'gabriel', 'dodge', 'idiot', 'wild', 'puppets', 'fear', 'beyond', 'native', 'built', 'aimless', 'intoning', 'olde', 'fantasy', 'lid', 'thug', 'including', 'themes', 'juano', 'deal', 'stewart', 'forgettable', 'paolo', 'mountain', 'subtle', 'bought', 'stealing', 'magnificent', 'brat', 'jutland', 'subtitles', 'unmitigated', 'passion', 'turned', 'superb', 'desperation', 'directorial', 'supernatural', 'found', 'fest', 'unemployed', 'clearly', 'applauded', 'heart', 'future', 'wholesome', 'verbal', 'pi', 'educational', 'damian', 'scenes', 'focus', 'sequel', 'characterisation', 'peculiarity', 'stupidity', 'lot', 'blake', 'watchable', 'morons', 'boobs', 'top', 'drift', 'repertory', 'equivalent', 'gosh', 'raver', 'seat', 'retreat', 'valentine', 'face', 'convoluted', 'steve', 'carol', 'unbearably', 'produce', 'relying', 'california', 'incendiary', 'hero', 'remotely', 'hoffman', 'shut', 'connery', 'comes', 'needed', 'twice', 'nostalgia', 'silly', 'hypocrisy', 'oscar', 'lie', 'candle', 'central', 'roeg', 'judith', 'wasting', 'started', 'melville', 'enchanting', 'schizophrenic', 'timing', 'tear', 'complexity', 'room', 'ishioka', 'secondary', 'readers', 'several', 'prone', 'accused', 'versatile', 'variation', 'begin', 'regardless', 'succeeds', 'blood', 'borderlines', 'garage', 'vocal', 'trooper', 'florida', 'reviewer', 'joy', 'suggest', 'emotions', 'related', 'unpredictable', 'temperaments', 'unpredictability', 'anyway', 'none', 'stockings', 'example', 'austen', 'smells', 'contributing', 'di', 'americans', 'jealousy', 'towers', 'bates', 'distinction', 'affleck', 'zombiez', 'schultz', 'trailer', 'seperate', 'includes', 'undoubtedly', 'oh', 'mind', 'hanks', 'exchange', 'ironside', 'la', 'owned', 'fabulous', 'fort', 'cowardice', 'jobs', 'reality', 'younger', 'sake', 'sand', 'feature', 'revealing', 'chick', 'unoriginal', 'sells', 'omit', 'subplots', 'routine', 'filmography', 'function', 'clothes', 'suited', 'tranquillity', 'wise', 'lilli', 'sabotages', 'grimes', 'bullock', 'estevez', 'bear', 'photography', 'continuously', 'gay', 'cool', 'later', 'judo', 'gave', 'theater', 'game', 'hour', 'jonah', 'awesome', 'iq', 'possible', 'form', 'sweet', 'developments', 'continuity', 'discovering', 'appropriate', 'significant', 'tone', 'irritating', 'nonetheless', 'timeless', 'screamy', 'endearing', 'elaborately', 'ursula', 'must', 'darren', 'barely', 'vivian', 'smart', 'starts', 'flat', 'lead', 'half', 'kind', 'understatement', 'sample', 'insulin', 'excessively', 'sum', 'shallow', 'subverting', 'ponyo', 'torture', 'hummh', 'rolls', 'virtue', 'villain', 'sam', 'sacrifice', 'design', 'prepared', 'point', 'carry', 'ballet', 'insipid', 'skip', 'ordeal', 'spiffy', 'feel', 'entertained', 'around', 'loneliness', 'koteas', 'willie', 'human', 'avoided', 'schoolers', 'rescue', 'titta', 'overcome', 'writer', 'rent', 'process', 'wont', 'pretentious', 'palance', 'everything', 'vomited', 'greenstreet', 'author', 'girls', 'screenplay', 'realize', 'late', 'happen', 'brilliantly', 'release', 'man', 'aired', 'suspension', 'superlative', 'doomed', 'phony', 'adams', 'cheap', 'surf', 'complete', 'sequence', 'rice', 'mindblowing', 'considerable', 'inexperience', 'classic', 'bold', 'hayworth', 'storytelling', 'mature', 'power', 'suck', 'nuts', 'pair', 'agree', 'weaker', 'shattered', 'jaclyn', 'shatner', 'babbling', 'accolades', 'heaven', 'laselva', 'monster', 'emilio', 'monolog', 'cartoon', 'thrown', 'aailiyah', 'embarrassing', 'felt', 'dozen', 'generates', 'attempting', 'earlier', 'left', 'fascinating', 'ground', 'harris', 'pixar', 'person', 'coppola', 'perplexing', 'angelina', 'get', 'certainly', 'financial', 'waylaid', 'pans', 'stanwyck', 'hilarious', 'imperial', 'casted', 'nothing', 'saw', 'awarded', 'faces', 'boss', 'shameful', 'thinking', 'us', 'sink', 'dialog', 'surely', 'teenagers', 'buffet', 'total', 'christopher', 'white', 'close', 'ask', 'avoid', 'flaws', 'excellent', 'sad', 'interesting', 'location', 'events', 'cinematic', 'crayon', 'collective', 'complex', 'costs', 'satanic', 'site', 'talents', 'fully', 'portraying', 'episode', 'structure', 'murder', 'unethical', 'popcorn', 'kristoffersen', 'marion', 'diabetic', 'howe', 'commercial', 'nerves', 'card', 'spot', 'make', 'theatre', 'faithful', 'cast', 'telly', 'charisma', 'wide', 'nine', 'consider', 'especially', 'shepard', 'community', 'energetic', 'wife', 'bechard', 'shocking', 'syrupy', 'triumphed', 'poor', 'noir', 'sensitivities', 'scares', 'delivering', 'horrendous', 'astonishingly', 'tears', 'lazy', 'latched', 'predictably', 'paper', 'rough', 'rubbish', 'roosevelt', 'relationships', 'unique', 'could', 'unremarkable', 'looking', 'everybody', 'escalating', 'special', 'oy', 'mexican', 'taking', 'revere', 'continuation', 'homework', 'bellucci', 'agreed', 'ussr', 'pencil', 'force', 'fat', 'naked', 'romantic', 'directors', 'professor', 'embassy', 'naughty', 'sack', 'schrader', 'ready', 'insult', 'robotic', 'shooting', 'soul', 'hes', 'roller', 'sloppy', 'choice', 'water', 'contains', 'stinks', 'attractive', 'betty', 'received', 'step', 'president', 'subject', 'teddy', 'slightest', 'provided', 'course', 'player', 'stay', 'peter', 'wooden', 'conception', 'former', 'theme', 'dumbest', 'amust', 'convincing', 'commentary', 'hype', 'gently', 'footage', 'channel', 'period', 'car', 'ball', 'need', 'lives', 'regrettably', 'toons', 'tender', 'desert', 'mention', 'leave', 'laughs', 'anita', 'friends', 'starring', 'addition', 'theatrical', 'something', 'boogeyman', 'judging', 'bring', 'fast', 'loves', 'lion', 'brian', 'took', 'pandering', 'kept', 'critical', 'indication', 'ridiculousness', 'fact', 'sits', 'fundamental', 'played', 'kevin', 'tony', 'helping', 'makes', 'questioning', 'jerky', 'articulated', 'credible', 'sharply', 'competent', 'hilt', 'unfaithful', 'brain', 'net', 'derivative', 'ugliest', 'integral', 'voyage', 'disaster', 'writers', 'finest', 'terribly', 'treatments', 'en', 'uhura', 'act', 'essence', 'accents', 'puzzle', 'speak', 'following', 'enough', 'cheesiness', 'alert', 'accurate', 'removing', 'tomorrow', 'correct', 'settings', 'mistakes', 'aside', 'imagination', 'delightful', 'unfortunate', 'wrote', 'logic', 'visual', 'loosely', 'level', 'member', 'gonna', 'meanings', 'smack', 'predictable', 'bennett', 'spew', 'layers', 'premise', 'ended', 'major', 'sean', 'needlessly', 'duet', 'owls', 'fleshed', 'incomprehensible', 'vandiver', 'teaches', 'sit', 'came', 'soldiers', 'remaining', 'pay', 'reminded', 'advise', 'dvd', 'exceptionally', 'hell', 'series', 'interested', 'forever', 'threshold', 'offend', 'hands', 'weaving', 'bible', 'scene', 'horror', 'bordered', 'deeply', 'control', 'dribble', 'falling', 'dumb', 'content', 'evidently', 'body', 'medical', 'work', 'heche', 'powerful', 'seamlessly', 'relief', 'hence', 'washed', 'decidely', 'vitally', 'child', 'engaging', 'unrealistic', 'candace', 'efforts', 'dimensional', 'song', 'acclaimed', 'limitations', 'achille', 'hugo', 'like', 'novella', 'eloquently', 'consistent', 'expecting', 'relations', 'sure', 'diving', 'veteran', 'pile', 'coming', 'horse', 'drawn', 'horrid', 'made', 'allowing', 'rips', 'green', 'meredith', 'personalities', 'clich', 'cheerless', 'served', 'universe', 'realized', 'starlet', 'place', 'lets', 'lines', 'street', 'rivalry', 'ticker', 'called', 'side', 'mediocre', 'running', 'eye', 'retarded', 'depressing', 'recommend', 'trilogy', 'nonsense', 'woven', 'riz', 'set', 'blown', 'childrens', 'excellently', 'wilkinson', 'farce', 'loewenhielm', 'underbite', 'animation', 'comical', 'cost', 'jokes', 'result', 'better', 'sincere', 'precisely', 'views', 'miserable', 'random', 'singing', 'pack', 'changing', 'jimmy', 'insincere', 'connections', 'uncalled', 'parker', 'lame', 'insane', 'average', 'straw', 'understated', 'struggle', 'truth', 'try', 'girlfriend', 'pledge', 'known', 'acted', 'trinity', 'lucy', 'sister', 'star', 'damn', 'understood', 'forwarded', 'gross', 'enjoyment', 'masterpieces', 'identifies', 'frances', 'faux', 'professionals', 'space', 'warn', 'effective', 'tongue', 'sarcophage', 'european', 'suffered', 'short', 'bit', 'mirrormask', 'tuneful', 'cutouts', 'become', 'literally', 'sinister', 'stereotypes', 'sat', 'cg', 'black', 'opening', 'potted', 'years', 'cute', 'parents', 'designed', 'lovely', 'forth', 'recent', 'dignity', 'knows', 'nut', 'unfolds', 'score', 'tremendous', 'explorations', 'senior', 'longer', 'cat', 'weak', 'elegant', 'confirm', 'wish', 'kris', 'philippa', 'partaking', 'numbers', 'year', 'awkwardly', 'less', 'created', 'poorly', 'decisions', 'learn', 'kids', 'linear', 'surprises', 'bohemian', 'touches', 'study', 'detailing', 'whoever', 'political', 'okay', 'tough', 'underwater', 'feeling', 'keeps', 'imdb', 'wong', 'guests', 'however', 'unaccompanied', 'began', 'sappiest', 'next', 'frightening', 'negative', 'frustration', 'neil', 'mother', 'terms', 'woa', 'grates', 'adrift', 'either', 'bertolucci', 'end', 'tension', 'fifties', 'fausa', 'absolutely', 'dustin', 'christmas', 'timely', 'fascination', 'jack', 'celebration', 'delight', 'horrified', 'deserving', 'tonight', 'brooding', 'yes', 'low', 'favourite', 'burton', 'ann', 'real', 'contributory', 'idealogical', 'original', 'intelligence', 'ass', 'flowed', 'told', 'closed', 'ought', 'plmer', 'mouth', 'rumbles', 'drooling', 'scare', 'obviously', 'nicola', 'slavic', 'jim', 'wall', 'dysfunction', 'terrible', 'tedium', 'checking', 'vampire', 'renowned', 'climax', 'hill', 'shelves', 'exaggerating', 'lucio', 'justice', 'mini', 'bombardments', 'basic', 'effort', 'judge', 'notable', 'owns', 'phantasm', 'crowd', 'often', 'brief', 'melodrama', 'cheekbones', 'doubt', 'portrayal', 'sven', 'vomit', 'sounded', 'guys', 'monumental', 'solving', 'elderly', 'back', 'diaper', 'riot', 'seriously', 'carries', 'whatsoever', 'traffic', 'inexplicable', 'kieslowski', 'evil', 'leni', 'thread', 'list', 'recently', 'dry', 'dickens', 'sentiment', 'whites', 'version', 'cgi', 'stick', 'heartwarming', 'grasp', 'touching', 'box', 'minutes', 'women', 'children', 'scale', 'glasses', 'japanese', 'falsely', 'sometimes', 'fun', 'collect', 'aspect', 'weird', 'telephone', 'sweep', 'unrecommended', 'science', 'sorrentino', 'jamie', 'boyle', 'gaudi', 'shakespears', 'disappointed', 'least', 'unfunny', 'manna', 'overly', 'spoiler', 'god', 'flawed', 'meaning', 'comment', 'light', 'taxidermists', 'recover', 'everyone', 'dramatic', 'gerardo', 'viewer', 'problems', 'within', 'despite', 'day', 'bat', 'sound', 'issue', 'draft', 'utter', 'mouse', 'dwight', 'frontier', 'charming', 'offers', 'overt', 'sophisticated', 'whine', 'ineptly', 'contrast', 'shined', 'stand', 'odd', 'strident', 'pictures', 'whatever', 'cover', 'dominated', 'frankly', 'nimoy', 'indictment', 'legal', 'technically', 'situation', 'bergen', 'effects', 'famed', 'goremeister', 'modern', 'executed', 'impressed', 'marred', 'character', 'surprised', 'tell', 'receive', 'expectations', 'sequences', 'relatively', 'uneasy', 'masterful', 'strokes', 'utterly', 'jessice', 'imagine', 'poignant', 'emptiness', 'boiling', 'tons', 'lust', 'maker', 'crash', 'suspense', 'rickman', 'waster', 'heroism', 'luv', 'borders', 'armand', 'shots', 'genuine', 'choices', 'allow', 'world', 'redeemed', 'great', 'cinematography', 'crayons', 'moved', 'school', 'gain', 'neighbour', 'final', 'direct', 'momentum', 'cailles', 'task', 'weight', 'survivors', 'assante', 'sibling', 'laughed', 'dose', 'much', 'negulesco', 'shed', 'favorite', 'pleasing', 'incredibly', 'cox', 'stagy', 'fashioned', 'challenges', 'fumbling', 'student', 'possibly', 'cinematographers', 'road', 'players', 'take', 'done', 'presence', 'impulse', 'free', 'hot', 'meld', 'grew', 'relate', 'horrendously', 'everywhere', 'generic', 'outlets', 'offensive', 'shell', 'humor', 'follow', 'system', 'thick', 'care', 'television', 'rate', 'hollander', 'lovable', 'flakes', 'havilland', 'entire', 'turkey', 'part', 'politics', 'times', 'cheaply', 'walked', 'ray', 'condescends', 'reasonable', 'fans', 'latest', 'transcend', 'rpger', 'cancan', 'computer', 'worthless', 'perfect', 'script', 'air', 'elias', 'outward', 'youtube', 'directed', 'mighty', 'delivered', 'word', 'seem', 'unbelievable', 'lacks', 'french', 'dr', 'giving', 'comedy', 'every', 'edition', 'screen', 'male', 'scripted', 'bendingly', 'taelons', 'versus', 'lots', 'masterpiece', 'away', 'art', 'moves', 'underneath', 'killings', 'warning', 'flashbacks', 'underrated', 'whenever', 'linda', 'establish', 'sleep', 'corny', 'exploit', 'audience', 'four', 'loose', 'wayne', 'debbie', 'video', 'boring', 'pathetic', 'unlockable', 'self', 'comprehensible', 'contrived', 'charismatic', 'angus', 'falwell', 'tickets', 'without', 'watkins', 'brilliance', 'race', 'charm', 'lance', 'new', 'heard', 'bonding', 'slurs', 'actions', 'hear', 'lewis', 'junk', 'wartime', 'reconciliation', 'gloriously', 'theatres', 'moral', 'dance', 'company', 'howdy', 'chase', 'home', 'connor', 'matthews', 'ending', 'finds', 'results', 'tv', 'involving', 'ratings', 'discovery', 'suggests', 'genius', 'living', 'local', 'animated', 'holes', 'alike', 'exceptional', 'industry', 'actresses', 'interim', 'sub', 'reviews', 'rocks', 'spoil', 'evinced', 'custer', 'ghibili', 'build', 'acting', 'excuse', 'values', 'perfectly', 'usual', 'camerawork', 'legendary', 'savalas', 'greatest', 'overwrought', 'catchy', 'personally', 'walk', 'interview', 'painful', 'kidnapped', 'regrettable', 'bag', 'lack', 'park', 'volatile', 'drama', 'stephen', 'development', 'released', 'lesser', 'intelligent', 'seeing', 'fire', 'movements', 'thought', 'raging', 'cheek', 'concentrate', 'vessel', 'punishment', 'hosting', 'aesthetically', 'tired', 'delights', 'sequels', 'best', 'house', 'holds', 'question', 'honestly', 'laughable', 'cruise', 'network', 'boasts', 'backdrop', 'um', 'reading', 'beautifully', 'ole', 'miss', 'captures', 'sounds', 'time', 'edward', 'strong', 'hatred', 'jean', 'netflix', 'riveted', 'particularly', 'prejudice', 'ive', 'evaluate', 'completed', 'season', 'flicks', 'age', 'picture', 'assistant', 'uses', 'develop', 'government', 'features', 'steele', 'award', 'hockey', 'pg', 'cold', 'dont', 'presents', 'semi', 'paced', 'since', 'scenery', 'deserved', 'houses', 'nobody', 'inconsistencies', 'miner', 'convince', 'cliche', 'helms', 'somewhat', 'irons', 'look', 'handles', 'disparate', 'egotism', 'achievement', 'cannot', 'hay', 'ugly', 'relaxing', 'appears', 'fine', 'forget', 'heroes', 'painfully', 'written', 'pretty', 'respecting', 'littered', 'hold', 'scientist', 'loyalty', 'creates', 'dangerous', 'expect', 'loads', 'credits', 'hayao', 'foolish', 'nasty', 'keep', 'pm', 'tiny', 'public', 'groove', 'filmmaker', 'biographical', 'element', 'kinda', 'coach', 'pearls', 'viewing', 'defensemen', 'moments', 'landscapes', 'create', 'pleaser', 'unmatched', 'artless', 'rated', 'disney', 'stratus', 'difference', 'thunderbirds', 'marriage', 'endlessly', 'savor', 'uniqueness', 'physical', 'interplay', 'range', 'bother', 'wonderfully', 'conflict', 'behind', 'scream', 'funny', 'adaptation', 'violin', 'store', 'debits', 'machine', 'throughout', 'amateurish', 'unrestrained', 'narration', 'artiness', 'voice', 'laugh', 'duper', 'serious', 'span', 'cable', 'gibberish', 'notch', 'seuss', 'jerry', 'else', 'paid', 'primal', 'calls', 'filmiing', 'patriotism', 'previous', 'enterprise', 'helps', 'edge', 'flaw', 'hankies', 'far', 'deserves', 'basically', 'loved', 'simplifying', 'victor', 'volcano', 'producers', 'lady', 'bec', 'describes', 'preservation', 'kitchy', 'death', 'cheesy', 'forgetting', 'excruciatingly', 'tacky', 'trash', 'disgusting', 'bully', 'post', 'decay', 'bitchy', 'ms', 'jet', 'badly', 'keira', 'cardboard', 'vision', 'impressive', 'drago', 'townsend', 'plus', 'implausible', 'sharing', 'hackneyed', 'shirley', 'knightley', 'entertaining', 'mess', 'finale', 'holding', 'massive', 'reporter', 'cardellini', 'tightly', 'heels', 'admins', 'leading', 'surrounding', 'motion', 'colours', 'spend', 'colorful', 'applause', 'marbles', 'poetry', 'paint', 'excerpts', 'trip', 'poet', 'dialogue', 'story', 'mclaglen', 'males', 'two', 'expression', 'understand', 'crashed', 'heads', 'grainy', 'colored', 'sinking', 'latifa', 'crackles', 'shame', 'comments', 'artist', 'limited', 'iso', 'perfected', 'consequences', 'facial', 'redeeming', 'plants', 'lower', 'indulgent', 'thanks', 'brigand', 'forgotten', 'spacek', 'billy', 'falls', 'true', 'squibs', 'paul', 'heroine', 'established', 'say', 'errol', 'showed', 'not', 'underlines', 'selections', 'delivers', 'proceedings', 'wind', 'treasure', 'keith', 'films', 'struck', 'pulling', 'twirling', 'words', 'except', 'highlights', 'see', 'general', 'originality', 'iffy', 'surprising', 'waitress', 'warmth', 'trashy', 'move', 'fill', 'regret', 'happiness', 'freshness', 'budget', 'origins', 'dream', 'sense', 'camera', 'akin', 'swords', 'pyromaniac', 'microsoft', 'breeders', 'painted', 'confuses', 'hendrikson', 'material', 'working', 'gere', 'disgrace', 'among', 'piece', 'los', 'upper', 'spoiled', 'stuart', 'says', 'works', 'leaving', 'failed', 'awards', 'state', 'shortlist', 'coherent', 'expert', 'america', 'unintentionally', 'angle', 'revenge', 'deadpan', 'rating', 'repair', 'enter', 'constant', 'find', 'existent', 'plane', 'bell', 'proudly', 'south', 'inspiration', 'sites', 'pillow', 'emotion', 'provoking', 'portrayals', 'tying', 'fisted', 'sheer', 'bakery', 'charlie', 'pacing', 'angles', 'takes', 'highest', 'forgot', 'past', 'long', 'composed', 'feet', 'screened', 'imaginative', 'pretext', 'anguish', 'phenomenal', 'discomfort', 'thing', 'non', 'undertone', 'pointillistic', 'restrained', 'twist', 'astronaut', 'stupid', 'gripping', 'reenactments', 'daughters', 'exemplars', 'miyazaki', 'national', 'masculine', 'want', 'disappointing', 'amazing', 'overdue', 'bipolarity', 'wow', 'pulls', 'allison', 'visually', 'buffalo', 'broke', 'identified', 'william', 'gifted', 'obvious', 'band', 'memorable', 'stunning', 'zillion', 'fair', 'gem', 'track', 'show', 'cinema', 'horrible', 'issues', 'also', 'impression', 'frost', 'full', 'reasons', 'gotten', 'wasted', 'indescribably', 'jones', 'flynn', 'hellish', 'tortured', 'goalies', 'episodes', 'freeman', 'aye', 'nevsky', 'jay', 'idiotic', 'belmondo', 'sole', 'choked', 'money', 'superficial', 'critic', 'night', 'amount', 'given', 'inventive', 'considers', 'handle', 'qu', 'lord', 'concerning', 'barney', 'enjoyable', 'hip', 'scary', 'worry', 'unrecognizable', 'cords', 'rather', 'depends', 'pitch', 'sisters', 'bad', 'ways', 'ackerman', 'waiting', 'exquisite', 'directing', 'abandoned', 'mansonites', 'details', 'bob', 'abroad', 'went', 'noble', 'superbad', 'enjoyed', 'killer', 'middle', 'eighth', 'wanted', 'drawings', 'relation', 'remake', 'convention', 'delete', 'comfortable', 'faultless', 'chosen', 'decent', 'union', 'nevertheless', 'fame', 'nun', 'waste', 'stereotypically', 'propaganda', 'transfers', 'change', 'screenwriter', 'london', 'explosion', 'ultra', 'concert', 'universal', 'inspiring', 'gotta', 'patent', 'inside', 'northern', 'court', 'murdering', 'emperor', 'stocking', 'fishnet', 'fan', 'mark', 'plenty', 'putting', 'fresh', 'thumper', 'round', 'yet', 'verbatim', 'looked', 'knew', 'fit', 'passed', 'dancing', 'sublimely', 'tops', 'hernandez', 'estate', 'joke', 'gone', 'vulcan', 'drag', 'fulfilling', 'ranks', 'donlevy', 'intense', 'kanaly', 'chimp', 'warts', 'ironically', 'sucks', 'cry', 'seamless', 'martin', 'widmark', 'reverse', 'ebay', 'chilly', 'nature', 'array', 'timers', 'would', 'misplace', 'mollusk', 'confidence', 'run', 'curtain', 'ortolani', 'smith', 'rochon', 'bright', 'psychological', 'locations', 'granted', 'impact', 'ebola', 'dull', 'first', 'morgan', 'conceptually', 'planned', 'might', 'latin', 'splendid', 'stable', 'afternoon', 'june', 'open', 'taylor', 'speaking', 'mad', 'sobering', 'pseudo', 'handled', 'depicts', 'continue', 'beginning', 'go', 'turn', 'crowe', 'meagre', 'trumbull', 'joins', 'eating', 'integration', 'although', 'cole', 'deliver', 'truck', 'casting', 'people', 'brings', 'improvement', 'africa', 'balanced', 'touch', 'salesman', 'superbly', 'clever', 'anthony', 'scripting', 'stayed', 'fox', 'actor', 'worth', 'guilt', 'underappreciated', 'attempts', 'son', 'confusing', 'english', 'trying', 'distract', 'treachery', 'no', 'think', 'really', 'things', 'overall', 'supposed', 'largely', 'faster', 'chodorov', 'babysitting', 'love', 'geek', 'said', 'despised', 'italian', 'performance', 'ed', 'ages', 'mishima', 'cant', 'looks', 'caught', 'beware', 'appealing', 'row', 'defined', 'garfield', 'kid', 'unpleasant', 'others', 'abstruse', 'helen', 'thoroughly', 'translate', 'journey', 'taped', 'main', 'rita', 'almost', 'occurs', 'cutie', 'aerial', 'positive', 'yeah', 'drifting', 'escapism', 'goth', 'qualities', 'plain', 'dollars', 'camp', 'thrillers', 'believable', 'mystifying', 'ryan', 'huston', 'ceases', 'joe', 'girolamo', 'monotonous', 'initially', 'remember', 'became', 'welsh', 'chemistry', 'success', 'book', 'villains', 'politically', 'virus', 'return', 'entrance', 'miserably', 'check', 'lange', 'poler', 'rubin', 'purity', 'flick', 'tries', 'today', 'worked', 'worthwhile', 'fish', 'traditional', 'consolations', 'used', 'kirk', 'conclusion', 'picked', 'identify', 'atmosphere', 'manages', 'lane', 'gung', 'lestat', 'vehicles', 'lighting', 'dark', 'outlandish', 'important', 'sex', 'outside', 'anatomist', 'females', 'yelps', 'talent', 'certain', 'five', 'unneeded', 'slideshow', 'overacting', 'fall', 'musician', 'sour', 'ryans', 'extant', 'creativity', 'awful', 'ireland', 'deadly', 'bothersome', 'asleep', 'super', 'owed', 'chow', 'life', 'silent', 'attempted', 'highly', 'kathy', 'crocdodile', 'factory', 'cases', 'dads', 'matter', 'brainsucking', 'creative', 'worthy', 'wants', 'actress', 'lieutenant', 'head', 'based', 'hand', 'trek', 'quick', 'sphere', 'photograph', 'spock', 'centers', 'tanks', 'progresses', 'anne', 'ue', 'hopefully', 'grade', 'tolerate', 'seems', 'family', 'goes', 'blatant', 'note', 'strives', 'stowe', 'existential', 'stylized', 'menace', 'energy', 'spacey', 'humour', 'depth', 'thousand', 'atrocity', 'start', 'repeats', 'save', 'wrong', 'blush', 'whiny', 'believe', 'worse', 'production', 'academy', 'feelings', 'gets', 'memorized', 'emily', 'thus', 'powerhouse', 'necklace', 'hope', 'promote', 'hate', 'famous', 'probably', 'supporting', 'rest', 'seemed', 'kill', 'explains', 'early', 'mickey', 'write', 'whether', 'chasing', 'composition', 'fodder', 'proud', 'ten', 'let', 'constantine', 'lino', 'anyone', 'yawn', 'particular', 'hurt', 'students', 'female', 'funniest', 'ho', 'actors', 'weariness', 'halfway', 'portrayed', 'role', 'considered', 'southern', 'distressed', 'friendship', 'indie', 'trond', 'olivia', 'leap', 'church', 'sucked', 'smoothly', 'cross', 'coal', 'movie', 'murky', 'social', 'reflected', 'bop', 'fingernails', 'genre', 'dogs', 'chalkboard', 'surroundings', 'rendition', 'killing', 'unconvincing', 'akasha', 'wanting', 'buildings', 'typical', 'terror', 'spy', 'fairly', 'setting', 'wonderful', 'explanation', 'appearance', 'extraordinary', 'experiences', 'quiet', 'aurv', 'pedestal', 'cheerfull', 'distorted', 'wonder', 'opinion', 'pieces', 'upa', 'realised', 'format', 'coastal', 'cartoons', 'happy', 'shot', 'rendering', 'war', 'ventura', 'due', 'shakespear', 'angel', 'plays', 'nervous', 'fantastic', 'bonus', 'quite', 'huge', 'thomerson', 'humans', 'intentions', 'slackers', 'dealt', 'blandly', 'daughter', 'breaking', 'clients', 'john', 'foxx', 'rise', 'disappointment', 'wave', 'slightly', 'standout', 'sydney', 'train', 'contract', 'scamp', 'freedom', 'cutting', 'lilt', 'sidelined', 'one', 'backed', 'costumes', 'terminology', 'likes', 'junkyard', 'sort', 'opened', 'galley', 'dedication', 'perhaps', 'solidifying', 'dead', 'commands', 'definitely', 'gadget', 'girl', 'solid', 'phrase', 'nurse', 'sublime', 'title', 'reviewers', 'labute', 'bonuses', 'completely', 'truly', 'cult', 'practically', 'strange', 'snow', 'interacting', 'reactions', 'even', 'line', 'bunch', 'courtroom', 'subversive', 'blue', 'last', 'era', 'trumpeter', 'offer', 'creature', 'impossible', 'resume', 'gives', 'teeth', 'celebrity', 'thoughts', 'controversy', 'compromise', 'quicker', 'problem', 'hours', 'gallon', 'shenanigans', 'rpg', 'american', 'baby', 'resounding', 'lousy', 'vivid', 'soundtrack', 'throwback', 'sea', 'howell', 'fascinated', 'little', 'constructed', 'apt', 'garbage', 'fellowes', 'tsunami', 'savant', 'beautiful', 'poised', 'dependant', 'giallo', 'pace', 'wrap', 'haggis', 'destroy', 'latter', 'generally', 'games', 'tensions', 'explain', 'knocked', 'wily', 'de', 'brother', 'stories', 'joyce', 'attention', 'argued', 'menacing', 'front', 'string', 'someone', 'gas', 'succeeded', 'reason', 'moment', 'forced', 'occasionally', 'bela', 'innocence', 'apart', 'lived', 'case', 'unsatisfactory', 'feisty', 'changes', 'armageddon', 'fanciful', 'fi', 'editing', 'etc', 'always', 'assaulted', 'unconditional', 'writing', 'configuration', 'canada', 'nice', 'wih', 'brilliant', 'treat', 'slow', 'football', 'playing', 'unbearable', 'user', 'know', 'instruments', 'snider', 'may', 'emoting', 'culture', 'swamp', 'twists', 'angela', 'violence', 'stoic', 'summary', 'master', 'grace', 'muddled', 'maybe', 'lacked', 'spent', 'overs', 'circumstances', 'hair', 'mercy', 'dislike', 'imaginable', 'shelf', 'ever', 'zombie', 'thorsen', 'eyes', 'racial', 'gradually', 'credit', 'ends', 'call', 'guess', 'ones', 'containing', 'couple', 'co', 'hoot', 'studio', 'review', 'cars', 'jennifer', 'ham', 'roles', 'already', 'comforting', 'boost', 'type', 'motivations', 'ruthless', 'sing', 'help', 'noteworthy', 'improved', 'inappropriate', 'fifteen', 'length', 'bailey', 'come', 'celluloid', 'messages', 'comedic', 'bland', 'puppet', 'th', 'vey', 'fx', 'getting', 'hairsplitting', 'boyfriend', 'facing', 'bond', 'otherwise', 'remarkable', 'wedding', 'slimy', 'childhood', 'quinn', 'nuns', 'number', 'pointless', 'sick', 'pull', 'disliked', 'istagey', 'provokes', 'interest', 'repeating', 'guy', 'normally', 'lifetime', 'producer', 'coaster', 'thriller', 'three', 'honest', 'audio', 'anything', 'peaking', 'whole', 'ferry', 'empty', 'second', 'use', 'fields', 'psychotic', 'documentaries', 'trap', 'pure', 'give', 'yardley', 'properly', 'captured', 'arts', 'charles', 'angry', 'dreary', 'way', 'tardis', 'good', 'older', 'appalling', 'uplifting', 'george', 'interpretations', 'young', 'quaid', 'barren', 'taken', 'indeed', 'ford', 'dee', 'many', 'terrific', 'belly', 'blew', 'going', 'par', 'decipher', 'designer', 'barking', 'performances', 'nationalities', 'grim', 'ability', 'ben', 'hated', 'hopeless', 'annoying', 'intensity', 'sculpture', 'skilled', 'baxendale', 'subjects', 'youthful', 'balls', 'merit', 'idea', 'steamboat', 'watched', 'switched', 'father', 'eiko', 'flaming', 'monica', 'amazed', 'website', 'experience', 'convey', 'unforgettable', 'makers', 'happened', 'spoilers', 'borrowed', 'humanity', 'quality', 'fulci', 'still', 'witty', 'glance', 'radiant', 'expansive', 'class', 'punched', 'operas', 'accurately', 'adorable', 'watching', 'hitchcock', 'documentary', 'senses', 'woo', 'amusing', 'gake', 'sitcoms', 'perabo', 'simply', 'lugosi', 'unnecessary', 'concerns', 'chance', 'hide', 'pitiful', 'bore', 'team', 'involved', 'behold', 'biggest', 'turns', 'describe', 'film', 'afraid', 'levels', 'humorous', 'columbo', 'making', 'occur', 'alongside', 'meant', 'errors', 'shows', 'though', 'action', 'crocs', 'unfortunately', 'well', 'thrilled', 'instant', 'prompted', 'core', 'plug', 'lyrics', 'schilling', 'require', 'natural', 'managed', 'easy', 'garbo', 'crime', 'desperately', 'imitation', 'brutal', 'glad', 'tolerable', 'days', 'hard', 'predict', 'exactly', 'insomniacs', 'storyline', 'practical', 'totally', 'modest', 'surprisingly', 'masculinity', 'style', 'sensibility', 'debut', 'mostly', 'intangibles', 'director', 'foreigner', 'cliff', 'meteorite', 'considering', 'enhanced', 'popular', 'narrative', 'involves', 'primary', 'translating', 'recommended', 'abysmal', 'buddy', 'stage', 'smile', 'product', 'simmering', 'heist', 'ridiculous', 'view', 'underlying', 'babie', 'missed', 'sign', 'jason', 'talk', 'im', 'teen', 'got', 'watson', 'broad', 'amazingly', 'higher', 'individual', 'classical', 'murdered', 'cruel', 'angeles', 'situations', 'intrigued', 'rejection', 'gorman', 'crafted', 'guards', 'recurring', 'evokes', 'minute', 'extremely', 'blah', 'filmed', 'wb', 'vibe', 'doctor', 'characters', 'compelling'}\n"
          ],
          "name": "stdout"
        }
      ]
    },
    {
      "cell_type": "code",
      "metadata": {
        "id": "5CikhecMXHn2"
      },
      "source": [
        "#IDF value for given dataset(corpus) and word\n",
        "def idf(dataset,word):\n",
        "  count = 0\n",
        "  for sent in dataset:\n",
        "    if word in sent.split(' '):\n",
        "      count +=1\n",
        "  return (1+math.log((1+len(dataset))/(1+count)))"
      ],
      "execution_count": 18,
      "outputs": []
    },
    {
      "cell_type": "code",
      "metadata": {
        "colab": {
          "base_uri": "https://localhost:8080/"
        },
        "id": "P_MBwEt9iilz",
        "outputId": "26cf0e99-4bcc-42ae-b5ef-d29821ba8cf1"
      },
      "source": [
        "#Sorting dict in descending order by value\n",
        "\n",
        "def sort_dict(ditn,n):\n",
        "  sorted_dict={}\n",
        "  count = 1\n",
        "  for i in sorted(ditn.values(),reverse=True):\n",
        "    for key,val in ditn.items():\n",
        "      if count <=n:\n",
        "        if i==val:\n",
        "          sorted_dict[key] = val\n",
        "          count += 1\n",
        "  return sorted_dict\n",
        "\n",
        "d = {\"asaas\": 10.55,\n",
        "     \"dert\": 25.66,\n",
        "     \"ertw\": 56.32,\n",
        "     \"swer\": 56.32,\n",
        "     \"wert\":2.65,\n",
        "     \"dfdsfsd\":56.32,\n",
        "     \"dsfsde\":56.32\n",
        "     }\n",
        "\n",
        "print(d)\n",
        "print(sort_dict(d,3))"
      ],
      "execution_count": 19,
      "outputs": [
        {
          "output_type": "stream",
          "text": [
            "{'asaas': 10.55, 'dert': 25.66, 'ertw': 56.32, 'swer': 56.32, 'wert': 2.65, 'dfdsfsd': 56.32, 'dsfsde': 56.32}\n",
            "{'ertw': 56.32, 'swer': 56.32, 'dfdsfsd': 56.32}\n"
          ],
          "name": "stdout"
        }
      ]
    },
    {
      "cell_type": "code",
      "metadata": {
        "id": "ZULfoOIdxLjQ"
      },
      "source": [
        "def fit(dataset):\n",
        "  unique_words = set()\n",
        "  idf_words =dict()\n",
        "  idf_v=0\n",
        "  sdf=[]\n",
        "  unique_words2=[]\n",
        "  if isinstance(dataset,list):\n",
        "    for sentence in dataset:\n",
        "      for word in sentence.split(\" \"):\n",
        "        if len(word)<2:\n",
        "          continue\n",
        "        unique_words.add(word)\n",
        "    unique_words = sorted(list(unique_words))\n",
        "    # print(\"No of Unique words: \",len(unique_words))\n",
        "    for word in unique_words:\n",
        "      idf_v = idf(dataset,word)\n",
        "      idf_words[word] = idf_v\n",
        "    print(idf_words)\n",
        "    print(len(idf_words.keys()))\n",
        "    idf_wordssort = sort_dict(idf_words,50)\n",
        "    print(idf_wordssort)\n",
        "    print(len(idf_wordssort.keys()))\n",
        "    unique_words = list(idf_wordssort.keys())\n",
        "    print(unique_words)\n",
        "    print(len(unique_words))\n",
        "    vocab = {j:i for i,j in enumerate(unique_words)}\n",
        "    return vocab\n",
        "  else:\n",
        "    print(\"Pass list of words \")"
      ],
      "execution_count": 20,
      "outputs": []
    },
    {
      "cell_type": "code",
      "metadata": {
        "colab": {
          "base_uri": "https://localhost:8080/"
        },
        "id": "nYNP18MulC6L",
        "outputId": "55fb5aa0-7ce1-4df4-855b-e87ee689b914"
      },
      "source": [
        "\n",
        "vocabdict = fit(corpus)"
      ],
      "execution_count": 21,
      "outputs": [
        {
          "output_type": "stream",
          "text": [
            "{'aailiyah': 6.922918004572872, 'abandoned': 6.922918004572872, 'ability': 6.229770824012927, 'abroad': 6.922918004572872, 'absolutely': 5.3134800921387715, 'abstruse': 6.922918004572872, 'abysmal': 6.517452896464707, 'academy': 6.922918004572872, 'accents': 6.922918004572872, 'accessible': 6.922918004572872, 'acclaimed': 6.922918004572872, 'accolades': 6.922918004572872, 'accurate': 6.922918004572872, 'accurately': 6.922918004572872, 'accused': 6.517452896464707, 'achievement': 6.517452896464707, 'achille': 6.922918004572872, 'ackerman': 6.922918004572872, 'act': 6.517452896464707, 'acted': 6.229770824012927, 'acting': 3.9784790254064317, 'action': 5.536623643452981, 'actions': 6.922918004572872, 'actor': 5.3134800921387715, 'actors': 4.671626205966376, 'actress': 6.229770824012927, 'actresses': 6.229770824012927, 'actually': 5.218169912334447, 'adams': 6.922918004572872, 'adaptation': 6.517452896464707, 'add': 6.922918004572872, 'added': 6.922918004572872, 'addition': 6.229770824012927, 'admins': 6.922918004572872, 'admiration': 6.922918004572872, 'admitted': 6.922918004572872, 'adorable': 6.006627272698717, 'adrift': 6.922918004572872, 'adventure': 6.922918004572872, 'advise': 6.517452896464707, 'aerial': 6.229770824012927, 'aesthetically': 6.922918004572872, 'affected': 6.922918004572872, 'affleck': 6.922918004572872, 'afraid': 6.517452896464707, 'africa': 6.517452896464707, 'afternoon': 6.922918004572872, 'age': 6.006627272698717, 'aged': 6.922918004572872, 'ages': 6.922918004572872, 'ago': 6.517452896464707, 'agree': 6.922918004572872, 'agreed': 6.922918004572872, 'aimless': 6.922918004572872, 'air': 6.517452896464707, 'aired': 6.922918004572872, 'akasha': 6.922918004572872, 'akin': 6.922918004572872, 'alert': 6.922918004572872, 'alexander': 6.517452896464707, 'alike': 6.922918004572872, 'allison': 6.922918004572872, 'allow': 6.922918004572872, 'allowing': 6.922918004572872, 'almost': 5.3134800921387715, 'along': 6.229770824012927, 'alongside': 6.922918004572872, 'already': 6.006627272698717, 'also': 4.397189360264616, 'although': 6.229770824012927, 'always': 6.006627272698717, 'amateurish': 6.922918004572872, 'amaze': 6.922918004572872, 'amazed': 6.922918004572872, 'amazing': 5.670155036077504, 'amazingly': 6.922918004572872, 'america': 6.517452896464707, 'american': 6.517452896464707, 'americans': 6.517452896464707, 'among': 6.517452896464707, 'amount': 5.824305715904762, 'amusing': 6.922918004572872, 'amust': 6.922918004572872, 'anatomist': 6.922918004572872, 'angel': 6.922918004572872, 'angela': 6.922918004572872, 'angeles': 6.517452896464707, 'angelina': 6.922918004572872, 'angle': 6.922918004572872, 'angles': 6.517452896464707, 'angry': 6.922918004572872, 'anguish': 6.922918004572872, 'angus': 6.922918004572872, 'animals': 6.922918004572872, 'animated': 6.922918004572872, 'animation': 6.517452896464707, 'anita': 6.922918004572872, 'ann': 6.922918004572872, 'anne': 6.229770824012927, 'anniversary': 6.922918004572872, 'annoying': 5.670155036077504, 'another': 5.824305715904762, 'anthony': 6.922918004572872, 'antithesis': 6.922918004572872, 'anyone': 4.843476462893037, 'anything': 5.418840607796598, 'anyway': 6.922918004572872, 'apart': 6.922918004572872, 'appalling': 6.517452896464707, 'appealing': 6.517452896464707, 'appearance': 6.229770824012927, 'appears': 6.922918004572872, 'applauded': 6.922918004572872, 'applause': 6.922918004572872, 'appreciate': 6.229770824012927, 'appropriate': 6.922918004572872, 'apt': 6.922918004572872, 'argued': 6.922918004572872, 'armageddon': 6.922918004572872, 'armand': 6.922918004572872, 'around': 5.824305715904762, 'array': 6.922918004572872, 'art': 5.218169912334447, 'articulated': 6.922918004572872, 'artiness': 6.922918004572872, 'artist': 6.517452896464707, 'artistic': 6.922918004572872, 'artless': 6.922918004572872, 'arts': 6.922918004572872, 'aside': 6.517452896464707, 'ask': 6.517452896464707, 'asleep': 6.517452896464707, 'aspect': 6.517452896464707, 'aspects': 6.922918004572872, 'ass': 6.517452896464707, 'assante': 6.922918004572872, 'assaulted': 6.922918004572872, 'assistant': 6.922918004572872, 'astonishingly': 6.922918004572872, 'astronaut': 6.922918004572872, 'atmosphere': 6.922918004572872, 'atrocious': 6.922918004572872, 'atrocity': 6.922918004572872, 'attempt': 6.006627272698717, 'attempted': 6.922918004572872, 'attempting': 6.922918004572872, 'attempts': 6.517452896464707, 'attention': 6.517452896464707, 'attractive': 6.922918004572872, 'audience': 5.824305715904762, 'audio': 6.922918004572872, 'aurv': 6.922918004572872, 'austen': 6.922918004572872, 'austere': 6.922918004572872, 'author': 6.922918004572872, 'average': 6.229770824012927, 'aversion': 6.922918004572872, 'avoid': 5.824305715904762, 'avoided': 6.922918004572872, 'award': 6.922918004572872, 'awarded': 6.922918004572872, 'awards': 6.922918004572872, 'away': 5.824305715904762, 'awesome': 6.229770824012927, 'awful': 4.9770078555175585, 'awkwardly': 6.922918004572872, 'aye': 6.922918004572872, 'baaaaaad': 6.922918004572872, 'babbling': 6.922918004572872, 'babie': 6.922918004572872, 'baby': 6.922918004572872, 'babysitting': 6.922918004572872, 'back': 6.006627272698717, 'backdrop': 6.922918004572872, 'backed': 6.922918004572872, 'bad': 3.627081138568543, 'badly': 6.517452896464707, 'bag': 6.922918004572872, 'bailey': 6.922918004572872, 'bakery': 6.922918004572872, 'balance': 6.517452896464707, 'balanced': 6.517452896464707, 'ball': 6.922918004572872, 'ballet': 6.922918004572872, 'balls': 6.922918004572872, 'band': 6.922918004572872, 'barcelona': 6.922918004572872, 'barely': 6.006627272698717, 'barking': 6.922918004572872, 'barney': 6.922918004572872, 'barren': 6.922918004572872, 'based': 6.922918004572872, 'basic': 6.922918004572872, 'basically': 6.517452896464707, 'bat': 6.922918004572872, 'bates': 6.922918004572872, 'baxendale': 6.922918004572872, 'bear': 6.517452896464707, 'beautiful': 5.218169912334447, 'beautifully': 6.517452896464707, 'bec': 6.922918004572872, 'became': 6.517452896464707, 'bechard': 6.922918004572872, 'become': 6.006627272698717, 'becomes': 6.922918004572872, 'began': 6.517452896464707, 'begin': 6.517452896464707, 'beginning': 6.006627272698717, 'behind': 6.922918004572872, 'behold': 6.922918004572872, 'bela': 6.922918004572872, 'believable': 5.670155036077504, 'believe': 5.418840607796598, 'believed': 6.922918004572872, 'bell': 6.922918004572872, 'bellucci': 6.922918004572872, 'belly': 6.922918004572872, 'belmondo': 6.922918004572872, 'ben': 6.922918004572872, 'bendingly': 6.922918004572872, 'bennett': 6.922918004572872, 'bergen': 6.922918004572872, 'bertolucci': 6.922918004572872, 'best': 4.571542747409394, 'better': 4.782851841076601, 'betty': 6.517452896464707, 'beware': 6.922918004572872, 'beyond': 5.824305715904762, 'bible': 6.922918004572872, 'big': 5.218169912334447, 'biggest': 6.922918004572872, 'billy': 6.229770824012927, 'biographical': 6.922918004572872, 'bipolarity': 6.922918004572872, 'bit': 5.824305715904762, 'bitchy': 6.922918004572872, 'black': 5.3134800921387715, 'blah': 6.922918004572872, 'blake': 6.922918004572872, 'bland': 6.922918004572872, 'blandly': 6.922918004572872, 'blare': 6.922918004572872, 'blatant': 6.922918004572872, 'blew': 6.922918004572872, 'blood': 6.517452896464707, 'blown': 6.922918004572872, 'blue': 6.922918004572872, 'blush': 6.922918004572872, 'boasts': 6.922918004572872, 'bob': 6.922918004572872, 'body': 6.922918004572872, 'bohemian': 6.922918004572872, 'boiling': 6.922918004572872, 'bold': 6.517452896464707, 'bombardments': 6.922918004572872, 'bond': 6.922918004572872, 'bonding': 6.922918004572872, 'bonus': 6.922918004572872, 'bonuses': 6.922918004572872, 'boobs': 6.922918004572872, 'boogeyman': 6.922918004572872, 'book': 6.006627272698717, 'boost': 6.922918004572872, 'bop': 6.922918004572872, 'bordered': 6.922918004572872, 'borderlines': 6.922918004572872, 'borders': 6.922918004572872, 'bore': 6.229770824012927, 'bored': 6.006627272698717, 'boring': 5.3134800921387715, 'borrowed': 6.922918004572872, 'boss': 6.922918004572872, 'bother': 6.517452896464707, 'bothersome': 6.922918004572872, 'bought': 6.229770824012927, 'box': 6.922918004572872, 'boyfriend': 6.922918004572872, 'boyle': 6.922918004572872, 'brain': 6.229770824012927, 'brainsucking': 6.922918004572872, 'brat': 6.922918004572872, 'breaking': 6.922918004572872, 'breeders': 6.922918004572872, 'brevity': 6.922918004572872, 'brian': 6.517452896464707, 'brief': 6.517452896464707, 'brigand': 6.922918004572872, 'bright': 6.922918004572872, 'brilliance': 6.229770824012927, 'brilliant': 5.670155036077504, 'brilliantly': 6.922918004572872, 'bring': 6.517452896464707, 'brings': 6.922918004572872, 'broad': 6.922918004572872, 'broke': 6.922918004572872, 'brooding': 6.922918004572872, 'brother': 6.922918004572872, 'brutal': 6.922918004572872, 'buddy': 6.922918004572872, 'budget': 5.536623643452981, 'buffalo': 6.922918004572872, 'buffet': 6.922918004572872, 'build': 6.922918004572872, 'builders': 6.922918004572872, 'buildings': 6.922918004572872, 'built': 6.922918004572872, 'bullock': 6.517452896464707, 'bully': 6.922918004572872, 'bunch': 6.517452896464707, 'burton': 6.922918004572872, 'business': 6.517452896464707, 'buy': 6.517452896464707, 'cable': 6.922918004572872, 'cailles': 6.922918004572872, 'california': 6.922918004572872, 'call': 6.517452896464707, 'called': 6.229770824012927, 'calls': 6.922918004572872, 'came': 6.006627272698717, 'cameo': 6.922918004572872, 'camera': 5.218169912334447, 'camerawork': 6.922918004572872, 'camp': 6.922918004572872, 'campy': 6.922918004572872, 'canada': 6.517452896464707, 'cancan': 6.922918004572872, 'candace': 6.922918004572872, 'candle': 6.922918004572872, 'cannot': 6.517452896464707, 'cant': 6.922918004572872, 'captain': 6.922918004572872, 'captured': 6.922918004572872, 'captures': 6.922918004572872, 'car': 6.922918004572872, 'card': 6.922918004572872, 'cardboard': 6.517452896464707, 'cardellini': 6.922918004572872, 'care': 5.824305715904762, 'carol': 6.922918004572872, 'carrell': 6.922918004572872, 'carries': 6.922918004572872, 'carry': 6.922918004572872, 'cars': 6.922918004572872, 'cartoon': 6.229770824012927, 'cartoons': 6.517452896464707, 'case': 6.517452896464707, 'cases': 6.922918004572872, 'cast': 4.671626205966376, 'casted': 6.922918004572872, 'casting': 5.670155036077504, 'cat': 6.922918004572872, 'catchy': 6.922918004572872, 'caught': 6.922918004572872, 'cause': 6.517452896464707, 'ceases': 6.517452896464707, 'celebration': 6.922918004572872, 'celebrity': 6.922918004572872, 'celluloid': 6.922918004572872, 'centers': 6.922918004572872, 'central': 6.517452896464707, 'century': 6.517452896464707, 'certain': 6.922918004572872, 'certainly': 5.536623643452981, 'cg': 6.922918004572872, 'cgi': 6.922918004572872, 'chalkboard': 6.922918004572872, 'challenges': 6.922918004572872, 'chance': 6.517452896464707, 'change': 6.517452896464707, 'changes': 6.922918004572872, 'changing': 6.922918004572872, 'channel': 6.922918004572872, 'character': 4.571542747409394, 'characterisation': 6.922918004572872, 'characters': 4.150329282333091, 'charisma': 6.517452896464707, 'charismatic': 6.922918004572872, 'charles': 6.517452896464707, 'charlie': 6.922918004572872, 'charm': 6.517452896464707, 'charming': 6.229770824012927, 'chase': 6.922918004572872, 'chasing': 6.922918004572872, 'cheap': 5.536623643452981, 'cheaply': 6.922918004572872, 'check': 6.922918004572872, 'checking': 6.229770824012927, 'cheek': 6.922918004572872, 'cheekbones': 6.922918004572872, 'cheerfull': 6.922918004572872, 'cheerless': 6.922918004572872, 'cheesiness': 6.922918004572872, 'cheesy': 6.517452896464707, 'chemistry': 6.006627272698717, 'chick': 6.517452896464707, 'child': 5.824305715904762, 'childhood': 6.517452896464707, 'children': 6.229770824012927, 'childrens': 6.922918004572872, 'chills': 6.922918004572872, 'chilly': 6.922918004572872, 'chimp': 6.922918004572872, 'chodorov': 6.922918004572872, 'choice': 6.922918004572872, 'choices': 6.922918004572872, 'choked': 6.922918004572872, 'chosen': 6.922918004572872, 'chow': 6.922918004572872, 'christmas': 6.517452896464707, 'christopher': 6.922918004572872, 'church': 6.517452896464707, 'cinema': 5.536623643452981, 'cinematic': 6.922918004572872, 'cinematographers': 6.922918004572872, 'cinematography': 5.3134800921387715, 'circumstances': 6.922918004572872, 'class': 6.922918004572872, 'classic': 5.670155036077504, 'classical': 6.922918004572872, 'clear': 6.922918004572872, 'clearly': 6.517452896464707, 'clever': 5.824305715904762, 'clich': 6.229770824012927, 'cliche': 6.922918004572872, 'clients': 6.922918004572872, 'cliff': 6.922918004572872, 'climax': 6.922918004572872, 'close': 6.229770824012927, 'closed': 6.922918004572872, 'clothes': 6.922918004572872, 'club': 6.922918004572872, 'co': 6.922918004572872, 'coach': 6.922918004572872, 'coal': 6.922918004572872, 'coastal': 6.922918004572872, 'coaster': 6.922918004572872, 'coherent': 6.922918004572872, 'cold': 6.922918004572872, 'cole': 6.517452896464707, 'collect': 6.922918004572872, 'collective': 6.922918004572872, 'colored': 6.922918004572872, 'colorful': 6.922918004572872, 'colours': 6.922918004572872, 'columbo': 6.922918004572872, 'come': 5.824305715904762, 'comedic': 6.922918004572872, 'comedy': 5.536623643452981, 'comes': 6.006627272698717, 'comfortable': 6.922918004572872, 'comforting': 6.922918004572872, 'comical': 6.922918004572872, 'coming': 6.229770824012927, 'commands': 6.922918004572872, 'comment': 6.922918004572872, 'commentary': 6.922918004572872, 'commented': 6.922918004572872, 'comments': 6.922918004572872, 'commercial': 6.922918004572872, 'community': 6.922918004572872, 'company': 6.922918004572872, 'compelling': 6.517452896464707, 'competent': 6.922918004572872, 'complete': 6.229770824012927, 'completed': 6.922918004572872, 'completely': 6.006627272698717, 'complex': 6.517452896464707, 'complexity': 6.922918004572872, 'composed': 6.922918004572872, 'composition': 6.517452896464707, 'comprehensible': 6.922918004572872, 'compromise': 6.922918004572872, 'computer': 6.517452896464707, 'concentrate': 6.922918004572872, 'conception': 6.922918004572872, 'conceptually': 6.922918004572872, 'concerning': 6.922918004572872, 'concerns': 6.922918004572872, 'concert': 6.922918004572872, 'conclusion': 6.229770824012927, 'condescends': 6.922918004572872, 'confidence': 6.922918004572872, 'configuration': 6.922918004572872, 'confirm': 6.922918004572872, 'conflict': 6.229770824012927, 'confuses': 6.922918004572872, 'confusing': 6.922918004572872, 'connections': 6.922918004572872, 'connery': 6.517452896464707, 'connor': 6.922918004572872, 'conrad': 6.922918004572872, 'consequences': 6.922918004572872, 'consider': 6.006627272698717, 'considerable': 6.922918004572872, 'considered': 6.922918004572872, 'considering': 6.517452896464707, 'considers': 6.922918004572872, 'consistent': 6.922918004572872, 'consolations': 6.922918004572872, 'constant': 6.922918004572872, 'constantine': 6.922918004572872, 'constructed': 6.922918004572872, 'contained': 6.517452896464707, 'containing': 6.922918004572872, 'contains': 6.517452896464707, 'content': 6.922918004572872, 'continually': 6.922918004572872, 'continuation': 6.922918004572872, 'continue': 6.922918004572872, 'continuity': 6.517452896464707, 'continuously': 6.922918004572872, 'contract': 6.922918004572872, 'contrast': 6.517452896464707, 'contributing': 6.922918004572872, 'contributory': 6.922918004572872, 'contrived': 6.922918004572872, 'control': 6.517452896464707, 'controversy': 6.922918004572872, 'convention': 6.922918004572872, 'convey': 6.922918004572872, 'convince': 6.922918004572872, 'convincing': 6.006627272698717, 'convoluted': 6.922918004572872, 'cool': 5.536623643452981, 'coppola': 6.517452896464707, 'cords': 6.922918004572872, 'core': 6.517452896464707, 'corn': 6.922918004572872, 'corny': 6.922918004572872, 'correct': 6.922918004572872, 'cost': 6.517452896464707, 'costs': 6.229770824012927, 'costumes': 6.922918004572872, 'cotton': 6.922918004572872, 'could': 4.397189360264616, 'couple': 6.922918004572872, 'course': 6.229770824012927, 'court': 6.922918004572872, 'courtroom': 6.517452896464707, 'cover': 6.006627272698717, 'cowardice': 6.922918004572872, 'cox': 6.922918004572872, 'crackles': 6.922918004572872, 'crafted': 6.517452896464707, 'crap': 5.824305715904762, 'crash': 6.922918004572872, 'crashed': 6.922918004572872, 'crayon': 6.922918004572872, 'crayons': 6.922918004572872, 'crazy': 6.517452896464707, 'create': 6.517452896464707, 'created': 6.006627272698717, 'creates': 6.517452896464707, 'creative': 6.922918004572872, 'creativity': 6.922918004572872, 'creature': 6.922918004572872, 'credible': 6.922918004572872, 'credit': 6.517452896464707, 'credits': 6.922918004572872, 'crew': 6.922918004572872, 'crime': 6.922918004572872, 'crisp': 6.922918004572872, 'critic': 6.922918004572872, 'critical': 6.922918004572872, 'crocdodile': 6.922918004572872, 'crocs': 6.922918004572872, 'cross': 6.922918004572872, 'crowd': 6.517452896464707, 'crowe': 6.922918004572872, 'cruel': 6.922918004572872, 'cruise': 6.922918004572872, 'cry': 6.922918004572872, 'cult': 6.006627272698717, 'culture': 6.517452896464707, 'curtain': 6.922918004572872, 'custer': 6.922918004572872, 'cute': 6.517452896464707, 'cutest': 6.922918004572872, 'cutie': 6.922918004572872, 'cutouts': 6.922918004572872, 'cuts': 6.922918004572872, 'cutting': 6.922918004572872, 'dads': 6.922918004572872, 'damian': 6.922918004572872, 'damn': 6.922918004572872, 'dance': 6.006627272698717, 'dancing': 6.517452896464707, 'dangerous': 6.517452896464707, 'dark': 6.517452896464707, 'darren': 6.922918004572872, 'daughter': 6.517452896464707, 'daughters': 6.922918004572872, 'day': 5.824305715904762, 'days': 6.922918004572872, 'de': 6.517452896464707, 'dead': 6.517452896464707, 'deadly': 6.922918004572872, 'deadpan': 6.922918004572872, 'deal': 6.922918004572872, 'dealt': 6.922918004572872, 'death': 6.006627272698717, 'debated': 6.922918004572872, 'debbie': 6.922918004572872, 'debits': 6.922918004572872, 'debut': 6.922918004572872, 'decay': 6.517452896464707, 'decent': 6.229770824012927, 'decidely': 6.922918004572872, 'decipher': 6.922918004572872, 'decisions': 6.922918004572872, 'dedication': 6.517452896464707, 'dee': 6.922918004572872, 'deep': 6.922918004572872, 'deeply': 6.517452896464707, 'defensemen': 6.922918004572872, 'defined': 6.922918004572872, 'definitely': 5.3134800921387715, 'delete': 6.922918004572872, 'delight': 6.517452896464707, 'delightful': 6.922918004572872, 'delights': 6.922918004572872, 'deliver': 6.922918004572872, 'delivered': 6.922918004572872, 'delivering': 6.517452896464707, 'delivers': 6.229770824012927, 'dependant': 6.922918004572872, 'depending': 6.922918004572872, 'depends': 6.922918004572872, 'depicted': 6.922918004572872, 'depicts': 6.517452896464707, 'depressing': 6.517452896464707, 'depth': 6.006627272698717, 'derivative': 6.922918004572872, 'describe': 6.517452896464707, 'describes': 6.922918004572872, 'desert': 6.922918004572872, 'deserved': 6.517452896464707, 'deserves': 6.517452896464707, 'deserving': 6.517452896464707, 'design': 6.922918004572872, 'designed': 6.922918004572872, 'designer': 6.922918004572872, 'desperately': 6.922918004572872, 'desperation': 6.922918004572872, 'despised': 6.922918004572872, 'despite': 6.517452896464707, 'destroy': 6.922918004572872, 'detailing': 6.922918004572872, 'details': 6.922918004572872, 'develop': 6.922918004572872, 'development': 6.922918004572872, 'developments': 6.922918004572872, 'di': 6.922918004572872, 'diabetic': 6.922918004572872, 'dialog': 6.229770824012927, 'dialogs': 6.922918004572872, 'dialogue': 5.131158535344817, 'diaper': 6.922918004572872, 'dickens': 6.922918004572872, 'difference': 6.922918004572872, 'different': 5.824305715904762, 'dignity': 6.922918004572872, 'dimensional': 6.922918004572872, 'direct': 6.922918004572872, 'directed': 6.229770824012927, 'directing': 5.418840607796598, 'direction': 6.006627272698717, 'director': 5.3134800921387715, 'directorial': 6.517452896464707, 'directors': 6.922918004572872, 'disappointed': 5.670155036077504, 'disappointing': 6.517452896464707, 'disappointment': 6.517452896464707, 'disaster': 6.517452896464707, 'disbelief': 6.922918004572872, 'discomfort': 6.922918004572872, 'discovering': 6.517452896464707, 'discovery': 6.922918004572872, 'disgrace': 6.922918004572872, 'disgusting': 6.922918004572872, 'dislike': 6.517452896464707, 'disliked': 6.517452896464707, 'disney': 6.922918004572872, 'disparate': 6.922918004572872, 'distant': 6.922918004572872, 'distinction': 6.922918004572872, 'distorted': 6.922918004572872, 'distract': 6.922918004572872, 'distressed': 6.922918004572872, 'disturbing': 6.517452896464707, 'diving': 6.922918004572872, 'doctor': 6.517452896464707, 'documentaries': 6.517452896464707, 'documentary': 6.229770824012927, 'dodge': 6.922918004572872, 'dogs': 6.517452896464707, 'dollars': 6.922918004572872, 'dominated': 6.922918004572872, 'done': 5.670155036077504, 'donlevy': 6.922918004572872, 'dont': 6.922918004572872, 'doomed': 6.922918004572872, 'dose': 6.922918004572872, 'doubt': 6.922918004572872, 'downs': 6.922918004572872, 'dozen': 6.922918004572872, 'dr': 6.922918004572872, 'dracula': 6.922918004572872, 'draft': 6.922918004572872, 'drag': 6.922918004572872, 'drago': 6.229770824012927, 'drama': 5.418840607796598, 'dramatic': 6.517452896464707, 'drawings': 6.922918004572872, 'drawn': 6.922918004572872, 'dream': 6.922918004572872, 'dreams': 6.517452896464707, 'dreary': 6.922918004572872, 'dribble': 6.922918004572872, 'drift': 6.922918004572872, 'drifting': 6.922918004572872, 'drive': 6.229770824012927, 'drooling': 6.922918004572872, 'dropped': 6.922918004572872, 'dry': 6.922918004572872, 'due': 6.229770824012927, 'duet': 6.517452896464707, 'dull': 6.517452896464707, 'dumb': 6.517452896464707, 'dumbest': 6.922918004572872, 'duper': 6.922918004572872, 'duris': 6.922918004572872, 'dustin': 6.922918004572872, 'dvd': 6.229770824012927, 'dwight': 6.922918004572872, 'dysfunction': 6.922918004572872, 'earlier': 6.229770824012927, 'early': 6.229770824012927, 'earth': 6.517452896464707, 'easily': 6.229770824012927, 'easy': 6.229770824012927, 'eating': 6.922918004572872, 'ebay': 6.922918004572872, 'ebola': 6.922918004572872, 'eccleston': 6.922918004572872, 'ed': 6.229770824012927, 'edge': 6.517452896464707, 'editing': 5.824305715904762, 'edition': 6.922918004572872, 'educational': 6.922918004572872, 'edward': 6.922918004572872, 'effect': 6.922918004572872, 'effective': 6.229770824012927, 'effects': 5.418840607796598, 'effort': 6.922918004572872, 'efforts': 6.922918004572872, 'egotism': 6.922918004572872, 'eighth': 6.922918004572872, 'eiko': 6.922918004572872, 'either': 6.229770824012927, 'elaborately': 6.922918004572872, 'elderly': 6.922918004572872, 'elegant': 6.922918004572872, 'element': 6.517452896464707, 'elias': 6.922918004572872, 'eloquently': 6.922918004572872, 'else': 6.006627272698717, 'elsewhere': 6.922918004572872, 'embarrassed': 6.922918004572872, 'embarrassing': 6.229770824012927, 'embassy': 6.922918004572872, 'emerge': 6.922918004572872, 'emilio': 6.517452896464707, 'emily': 6.517452896464707, 'emoting': 6.922918004572872, 'emotion': 6.922918004572872, 'emotionally': 6.922918004572872, 'emotions': 6.517452896464707, 'emperor': 6.922918004572872, 'empowerment': 6.922918004572872, 'emptiness': 6.922918004572872, 'empty': 6.517452896464707, 'en': 6.922918004572872, 'enchanting': 6.922918004572872, 'end': 5.131158535344817, 'endearing': 6.922918004572872, 'ended': 6.922918004572872, 'ending': 5.131158535344817, 'endlessly': 6.922918004572872, 'ends': 6.922918004572872, 'energetic': 6.922918004572872, 'energy': 6.006627272698717, 'engaging': 6.517452896464707, 'english': 6.922918004572872, 'enhanced': 6.922918004572872, 'enjoy': 5.824305715904762, 'enjoyable': 6.229770824012927, 'enjoyed': 5.418840607796598, 'enjoyment': 6.922918004572872, 'enough': 5.218169912334447, 'enter': 6.922918004572872, 'enterprise': 6.922918004572872, 'entertained': 6.922918004572872, 'entertaining': 6.006627272698717, 'entire': 5.670155036077504, 'entirely': 6.517452896464707, 'entrance': 6.922918004572872, 'episode': 6.229770824012927, 'episodes': 6.922918004572872, 'equivalent': 6.922918004572872, 'era': 6.517452896464707, 'errol': 6.517452896464707, 'errors': 6.922918004572872, 'escalating': 6.922918004572872, 'escapism': 6.922918004572872, 'especially': 5.418840607796598, 'essence': 6.922918004572872, 'establish': 6.922918004572872, 'established': 6.922918004572872, 'estate': 6.922918004572872, 'estevez': 6.922918004572872, 'etc': 6.229770824012927, 'european': 6.517452896464707, 'evaluate': 6.922918004572872, 'even': 4.0325462466767075, 'events': 6.922918004572872, 'ever': 4.480570969203668, 'every': 4.843476462893037, 'everybody': 6.922918004572872, 'everyone': 5.418840607796598, 'everything': 5.05111582767128, 'everywhere': 6.922918004572872, 'evidently': 6.922918004572872, 'evil': 6.517452896464707, 'evinced': 6.922918004572872, 'evokes': 6.922918004572872, 'exactly': 6.229770824012927, 'exaggerating': 6.922918004572872, 'example': 6.229770824012927, 'excellent': 4.9770078555175585, 'excellently': 6.517452896464707, 'except': 6.922918004572872, 'exceptional': 6.517452896464707, 'exceptionally': 6.922918004572872, 'excerpts': 6.922918004572872, 'excessively': 6.922918004572872, 'exchange': 6.922918004572872, 'exciting': 6.922918004572872, 'excruciatingly': 6.922918004572872, 'excuse': 6.922918004572872, 'excuses': 6.922918004572872, 'executed': 6.922918004572872, 'exemplars': 6.922918004572872, 'existent': 6.922918004572872, 'existential': 6.922918004572872, 'expansive': 6.922918004572872, 'expect': 6.006627272698717, 'expectations': 6.922918004572872, 'expected': 6.922918004572872, 'expecting': 6.922918004572872, 'experience': 5.670155036077504, 'experiences': 6.922918004572872, 'expert': 6.922918004572872, 'explain': 6.517452896464707, 'explains': 6.922918004572872, 'explanation': 6.517452896464707, 'exploit': 6.922918004572872, 'explorations': 6.922918004572872, 'explosion': 6.922918004572872, 'expression': 6.922918004572872, 'exquisite': 6.517452896464707, 'extant': 6.922918004572872, 'exteriors': 6.922918004572872, 'extraneous': 6.922918004572872, 'extraordinary': 6.922918004572872, 'extremely': 6.517452896464707, 'eye': 6.517452896464707, 'eyes': 6.006627272698717, 'fabulous': 6.922918004572872, 'face': 5.824305715904762, 'faces': 6.922918004572872, 'facial': 6.922918004572872, 'facing': 6.922918004572872, 'fact': 5.418840607796598, 'factory': 6.922918004572872, 'failed': 6.922918004572872, 'fails': 5.824305715904762, 'fair': 6.922918004572872, 'fairly': 6.922918004572872, 'faithful': 6.922918004572872, 'fall': 6.517452896464707, 'falling': 6.922918004572872, 'falls': 6.922918004572872, 'falsely': 6.922918004572872, 'falwell': 6.922918004572872, 'fame': 6.922918004572872, 'famed': 6.922918004572872, 'family': 5.536623643452981, 'famous': 6.922918004572872, 'fan': 6.229770824012927, 'fanciful': 6.922918004572872, 'fans': 5.824305715904762, 'fantastic': 6.229770824012927, 'fantasy': 6.922918004572872, 'far': 5.536623643452981, 'farce': 6.922918004572872, 'fare': 6.922918004572872, 'fascinated': 6.922918004572872, 'fascinating': 6.517452896464707, 'fascination': 6.922918004572872, 'fashioned': 6.922918004572872, 'fast': 6.006627272698717, 'faster': 6.922918004572872, 'fat': 6.517452896464707, 'father': 6.922918004572872, 'faultless': 6.922918004572872, 'fausa': 6.922918004572872, 'faux': 6.229770824012927, 'favorite': 6.922918004572872, 'favourite': 6.229770824012927, 'fear': 6.229770824012927, 'feature': 6.922918004572872, 'features': 6.229770824012927, 'feel': 6.229770824012927, 'feeling': 5.418840607796598, 'feelings': 6.922918004572872, 'feet': 6.922918004572872, 'feisty': 6.922918004572872, 'fellowes': 6.922918004572872, 'felt': 5.824305715904762, 'female': 6.517452896464707, 'females': 6.922918004572872, 'ferry': 6.922918004572872, 'fest': 6.922918004572872, 'fi': 6.517452896464707, 'fields': 6.922918004572872, 'fifteen': 6.922918004572872, 'fifties': 6.922918004572872, 'fill': 6.922918004572872, 'film': 2.771878098674226, 'filmed': 6.517452896464707, 'filmiing': 6.922918004572872, 'filmmaker': 6.922918004572872, 'filmography': 6.922918004572872, 'films': 4.671626205966376, 'final': 6.229770824012927, 'finale': 6.922918004572872, 'finally': 6.229770824012927, 'financial': 6.922918004572872, 'find': 5.218169912334447, 'finds': 6.922918004572872, 'fine': 5.824305715904762, 'finest': 6.922918004572872, 'fingernails': 6.922918004572872, 'finished': 6.922918004572872, 'fire': 6.922918004572872, 'first': 5.218169912334447, 'fish': 6.922918004572872, 'fishnet': 6.922918004572872, 'fisted': 6.922918004572872, 'fit': 6.922918004572872, 'five': 6.517452896464707, 'flag': 6.922918004572872, 'flakes': 6.922918004572872, 'flaming': 6.922918004572872, 'flashbacks': 6.922918004572872, 'flat': 6.517452896464707, 'flaw': 6.922918004572872, 'flawed': 6.517452896464707, 'flaws': 6.517452896464707, 'fleshed': 6.922918004572872, 'flick': 5.824305715904762, 'flicks': 6.922918004572872, 'florida': 6.922918004572872, 'flowed': 6.922918004572872, 'flying': 6.922918004572872, 'flynn': 6.517452896464707, 'focus': 6.517452896464707, 'fodder': 6.922918004572872, 'follow': 6.229770824012927, 'following': 6.517452896464707, 'follows': 6.922918004572872, 'foolish': 6.922918004572872, 'footage': 6.229770824012927, 'football': 6.922918004572872, 'force': 6.922918004572872, 'forced': 6.922918004572872, 'forces': 6.517452896464707, 'ford': 6.922918004572872, 'foreign': 6.922918004572872, 'foreigner': 6.922918004572872, 'forever': 6.922918004572872, 'forget': 6.517452896464707, 'forgettable': 6.922918004572872, 'forgetting': 6.922918004572872, 'forgot': 6.922918004572872, 'forgotten': 6.922918004572872, 'form': 6.517452896464707, 'format': 6.922918004572872, 'former': 6.922918004572872, 'fort': 6.922918004572872, 'forth': 6.922918004572872, 'forwarded': 6.922918004572872, 'found': 5.536623643452981, 'four': 6.922918004572872, 'fox': 6.517452896464707, 'foxx': 6.922918004572872, 'frances': 6.922918004572872, 'francis': 6.922918004572872, 'frankly': 6.517452896464707, 'free': 6.229770824012927, 'freedom': 6.517452896464707, 'freeman': 6.922918004572872, 'french': 6.517452896464707, 'fresh': 6.517452896464707, 'freshness': 6.922918004572872, 'friends': 6.517452896464707, 'friendship': 6.922918004572872, 'frightening': 6.229770824012927, 'front': 6.517452896464707, 'frontier': 6.922918004572872, 'frost': 6.922918004572872, 'frustration': 6.922918004572872, 'fulci': 6.517452896464707, 'fulfilling': 6.922918004572872, 'full': 5.824305715904762, 'fully': 6.922918004572872, 'fumbling': 6.922918004572872, 'fun': 5.824305715904762, 'function': 6.922918004572872, 'fundamental': 6.922918004572872, 'funniest': 6.922918004572872, 'funny': 4.782851841076601, 'future': 6.517452896464707, 'fx': 6.517452896464707, 'gabriel': 6.922918004572872, 'gadget': 6.922918004572872, 'gain': 6.922918004572872, 'gake': 6.922918004572872, 'galley': 6.922918004572872, 'gallon': 6.922918004572872, 'game': 6.229770824012927, 'games': 6.229770824012927, 'garage': 6.922918004572872, 'garbage': 5.536623643452981, 'garbo': 6.922918004572872, 'garfield': 6.922918004572872, 'gas': 6.922918004572872, 'gaudi': 6.922918004572872, 'gave': 5.824305715904762, 'gay': 6.922918004572872, 'geek': 6.922918004572872, 'gem': 6.229770824012927, 'general': 6.922918004572872, 'generally': 6.006627272698717, 'generates': 6.922918004572872, 'generic': 6.922918004572872, 'genius': 6.517452896464707, 'genre': 6.517452896464707, 'gently': 6.922918004572872, 'genuine': 6.229770824012927, 'george': 6.922918004572872, 'gerardo': 6.922918004572872, 'gere': 6.922918004572872, 'get': 5.05111582767128, 'gets': 5.670155036077504, 'getting': 6.922918004572872, 'ghibili': 6.922918004572872, 'giallo': 6.229770824012927, 'gibberish': 6.922918004572872, 'gifted': 6.922918004572872, 'giovanni': 6.922918004572872, 'girl': 5.536623643452981, 'girlfriend': 6.517452896464707, 'girls': 6.922918004572872, 'girolamo': 6.922918004572872, 'give': 5.218169912334447, 'given': 6.229770824012927, 'gives': 5.824305715904762, 'giving': 6.922918004572872, 'glad': 6.229770824012927, 'glance': 6.517452896464707, 'glasses': 6.922918004572872, 'gloriously': 6.922918004572872, 'go': 5.05111582767128, 'goalies': 6.922918004572872, 'god': 6.006627272698717, 'goes': 6.517452896464707, 'going': 5.218169912334447, 'gone': 6.922918004572872, 'gonna': 6.517452896464707, 'good': 3.7874237886437223, 'gore': 6.922918004572872, 'goremeister': 6.922918004572872, 'gorman': 6.922918004572872, 'gosh': 6.922918004572872, 'got': 5.418840607796598, 'goth': 6.922918004572872, 'gotta': 6.922918004572872, 'gotten': 6.922918004572872, 'government': 6.922918004572872, 'grace': 6.229770824012927, 'grade': 6.922918004572872, 'gradually': 6.922918004572872, 'grainy': 6.922918004572872, 'granted': 6.922918004572872, 'graphics': 6.922918004572872, 'grasp': 6.922918004572872, 'grates': 6.922918004572872, 'great': 4.182077980647671, 'greatest': 6.229770824012927, 'greatness': 6.922918004572872, 'green': 6.922918004572872, 'greenstreet': 6.922918004572872, 'grew': 6.922918004572872, 'grim': 6.922918004572872, 'grimes': 6.922918004572872, 'gripping': 6.517452896464707, 'groove': 6.922918004572872, 'gross': 6.922918004572872, 'ground': 6.922918004572872, 'guards': 6.922918004572872, 'guess': 5.824305715904762, 'guests': 6.922918004572872, 'guilt': 6.922918004572872, 'gung': 6.922918004572872, 'guy': 6.517452896464707, 'guys': 6.922918004572872, 'hackneyed': 6.517452896464707, 'haggis': 6.922918004572872, 'hair': 6.922918004572872, 'hairsplitting': 6.922918004572872, 'half': 5.670155036077504, 'halfway': 6.922918004572872, 'ham': 6.922918004572872, 'hand': 6.517452896464707, 'handle': 6.922918004572872, 'handled': 6.517452896464707, 'handles': 6.922918004572872, 'hands': 6.517452896464707, 'hang': 6.922918004572872, 'hankies': 6.922918004572872, 'hanks': 6.922918004572872, 'happen': 6.229770824012927, 'happened': 6.229770824012927, 'happiness': 6.922918004572872, 'happy': 6.922918004572872, 'hard': 6.229770824012927, 'harris': 6.922918004572872, 'hate': 6.517452896464707, 'hated': 6.517452896464707, 'hatred': 6.922918004572872, 'havilland': 6.922918004572872, 'hay': 6.922918004572872, 'hayao': 6.922918004572872, 'hayworth': 6.922918004572872, 'hbo': 6.922918004572872, 'head': 6.229770824012927, 'heads': 6.922918004572872, 'hear': 6.517452896464707, 'heard': 6.517452896464707, 'heart': 6.229770824012927, 'hearts': 6.922918004572872, 'heartwarming': 6.922918004572872, 'heaven': 6.517452896464707, 'heche': 6.922918004572872, 'heels': 6.922918004572872, 'heist': 6.922918004572872, 'helen': 6.922918004572872, 'hell': 6.517452896464707, 'hellish': 6.922918004572872, 'helms': 6.922918004572872, 'help': 6.922918004572872, 'helping': 6.922918004572872, 'helps': 6.517452896464707, 'hence': 6.517452896464707, 'hendrikson': 6.922918004572872, 'hernandez': 6.922918004572872, 'hero': 6.922918004572872, 'heroes': 6.922918004572872, 'heroine': 6.922918004572872, 'heroism': 6.922918004572872, 'hes': 6.922918004572872, 'hide': 6.922918004572872, 'high': 6.517452896464707, 'higher': 6.922918004572872, 'highest': 6.922918004572872, 'highlights': 6.922918004572872, 'highly': 5.3134800921387715, 'hilarious': 5.670155036077504, 'hill': 6.229770824012927, 'hilt': 6.922918004572872, 'hip': 6.922918004572872, 'history': 5.670155036077504, 'hitchcock': 6.229770824012927, 'ho': 6.922918004572872, 'hockey': 6.922918004572872, 'hoffman': 6.922918004572872, 'hold': 6.922918004572872, 'holding': 6.922918004572872, 'holds': 6.922918004572872, 'holes': 6.006627272698717, 'hollander': 6.922918004572872, 'hollow': 6.517452896464707, 'hollywood': 6.517452896464707, 'home': 6.517452896464707, 'homework': 6.922918004572872, 'honest': 6.922918004572872, 'honestly': 6.922918004572872, 'hoot': 6.922918004572872, 'hope': 6.006627272698717, 'hopefully': 6.922918004572872, 'hopeless': 6.922918004572872, 'horrendous': 6.922918004572872, 'horrendously': 6.922918004572872, 'horrible': 5.824305715904762, 'horrid': 6.922918004572872, 'horrified': 6.922918004572872, 'horror': 5.418840607796598, 'horse': 6.922918004572872, 'hosting': 6.922918004572872, 'hot': 6.922918004572872, 'hour': 6.006627272698717, 'hours': 6.229770824012927, 'house': 6.229770824012927, 'houses': 6.922918004572872, 'howdy': 6.922918004572872, 'howe': 6.922918004572872, 'howell': 6.922918004572872, 'however': 5.218169912334447, 'huge': 6.006627272698717, 'hugo': 6.922918004572872, 'human': 5.670155036077504, 'humanity': 6.922918004572872, 'humans': 6.922918004572872, 'hummh': 6.922918004572872, 'humor': 6.922918004572872, 'humorous': 6.517452896464707, 'humour': 6.517452896464707, 'hurt': 6.922918004572872, 'huston': 6.229770824012927, 'hype': 6.922918004572872, 'hypocrisy': 6.922918004572872, 'idea': 6.006627272698717, 'idealogical': 6.922918004572872, 'identified': 6.922918004572872, 'identifies': 6.922918004572872, 'identify': 6.517452896464707, 'idiot': 6.517452896464707, 'idiotic': 6.922918004572872, 'idyllic': 6.922918004572872, 'iffy': 6.922918004572872, 'im': 6.922918004572872, 'imaginable': 6.517452896464707, 'imagination': 6.006627272698717, 'imaginative': 6.517452896464707, 'imagine': 6.922918004572872, 'imdb': 6.922918004572872, 'imitation': 6.922918004572872, 'impact': 6.922918004572872, 'imperial': 6.922918004572872, 'implausible': 6.517452896464707, 'important': 6.517452896464707, 'impossible': 6.922918004572872, 'impressed': 6.517452896464707, 'impression': 6.922918004572872, 'impressive': 6.517452896464707, 'improved': 6.922918004572872, 'improvement': 6.922918004572872, 'improvisation': 6.922918004572872, 'impulse': 6.922918004572872, 'inappropriate': 6.922918004572872, 'incendiary': 6.922918004572872, 'includes': 6.922918004572872, 'including': 6.229770824012927, 'incomprehensible': 6.922918004572872, 'inconsistencies': 6.922918004572872, 'incorrectness': 6.922918004572872, 'incredible': 6.006627272698717, 'incredibly': 6.229770824012927, 'indeed': 6.006627272698717, 'indescribably': 6.922918004572872, 'indication': 6.922918004572872, 'indictment': 6.922918004572872, 'indie': 6.922918004572872, 'individual': 6.922918004572872, 'indoor': 6.922918004572872, 'indulgent': 6.229770824012927, 'industry': 6.517452896464707, 'ineptly': 6.922918004572872, 'inexperience': 6.922918004572872, 'inexplicable': 6.922918004572872, 'initially': 6.922918004572872, 'innocence': 6.922918004572872, 'insane': 6.922918004572872, 'inside': 6.922918004572872, 'insincere': 6.922918004572872, 'insipid': 6.922918004572872, 'insomniacs': 6.922918004572872, 'inspiration': 6.922918004572872, 'inspiring': 6.922918004572872, 'instant': 6.922918004572872, 'instead': 6.517452896464707, 'instruments': 6.922918004572872, 'insulin': 6.922918004572872, 'insult': 6.006627272698717, 'intangibles': 6.922918004572872, 'integral': 6.922918004572872, 'integration': 6.922918004572872, 'intelligence': 6.006627272698717, 'intelligent': 6.006627272698717, 'intense': 6.922918004572872, 'intensity': 6.922918004572872, 'intentions': 6.922918004572872, 'interacting': 6.922918004572872, 'interest': 6.229770824012927, 'interested': 6.517452896464707, 'interesting': 5.131158535344817, 'interim': 6.922918004572872, 'interplay': 6.517452896464707, 'interpretations': 6.922918004572872, 'interview': 6.922918004572872, 'intoning': 6.922918004572872, 'intrigued': 6.922918004572872, 'inventive': 6.922918004572872, 'involved': 5.824305715904762, 'involves': 6.922918004572872, 'involving': 6.922918004572872, 'iq': 6.922918004572872, 'ireland': 6.922918004572872, 'ironically': 6.922918004572872, 'irons': 6.922918004572872, 'ironside': 6.922918004572872, 'irritating': 6.922918004572872, 'ishioka': 6.922918004572872, 'iso': 6.922918004572872, 'issue': 6.922918004572872, 'issues': 6.517452896464707, 'istagey': 6.922918004572872, 'italian': 6.517452896464707, 'ive': 6.922918004572872, 'jack': 6.922918004572872, 'jaclyn': 6.922918004572872, 'james': 6.006627272698717, 'jamie': 6.517452896464707, 'japanese': 6.922918004572872, 'jason': 6.922918004572872, 'jay': 6.922918004572872, 'jealousy': 6.922918004572872, 'jean': 6.517452896464707, 'jennifer': 6.922918004572872, 'jerky': 6.517452896464707, 'jerry': 6.922918004572872, 'jessica': 6.922918004572872, 'jessice': 6.922918004572872, 'jet': 6.922918004572872, 'jim': 6.922918004572872, 'jimmy': 6.517452896464707, 'job': 5.3134800921387715, 'jobs': 6.517452896464707, 'joe': 6.922918004572872, 'john': 5.824305715904762, 'joins': 6.922918004572872, 'joke': 6.517452896464707, 'jokes': 6.922918004572872, 'jonah': 6.517452896464707, 'jones': 6.922918004572872, 'journey': 6.517452896464707, 'joy': 5.824305715904762, 'joyce': 6.922918004572872, 'juano': 6.922918004572872, 'judge': 6.922918004572872, 'judging': 6.922918004572872, 'judith': 6.922918004572872, 'judo': 6.922918004572872, 'julian': 6.922918004572872, 'june': 6.517452896464707, 'junk': 6.922918004572872, 'junkyard': 6.922918004572872, 'justice': 6.922918004572872, 'jutland': 6.922918004572872, 'kanaly': 6.922918004572872, 'kathy': 6.922918004572872, 'keep': 6.006627272698717, 'keeps': 6.517452896464707, 'keira': 6.922918004572872, 'keith': 6.922918004572872, 'kept': 6.922918004572872, 'kevin': 6.922918004572872, 'kid': 6.922918004572872, 'kidnapped': 6.922918004572872, 'kids': 5.418840607796598, 'kieslowski': 6.922918004572872, 'kill': 6.922918004572872, 'killer': 6.517452896464707, 'killing': 6.517452896464707, 'killings': 6.922918004572872, 'kind': 5.418840607796598, 'kinda': 6.517452896464707, 'kirk': 6.922918004572872, 'kitchy': 6.922918004572872, 'knew': 6.229770824012927, 'knightley': 6.922918004572872, 'knocked': 6.922918004572872, 'know': 4.908014984030608, 'known': 6.517452896464707, 'knows': 6.922918004572872, 'koteas': 6.922918004572872, 'kris': 6.922918004572872, 'kristoffersen': 6.922918004572872, 'kudos': 6.922918004572872, 'la': 6.922918004572872, 'labute': 6.922918004572872, 'lack': 6.922918004572872, 'lacked': 6.517452896464707, 'lacks': 5.824305715904762, 'ladies': 6.922918004572872, 'lady': 6.922918004572872, 'lame': 5.824305715904762, 'lance': 6.922918004572872, 'landscapes': 6.922918004572872, 'lane': 6.517452896464707, 'lange': 6.517452896464707, 'largely': 6.922918004572872, 'laselva': 6.922918004572872, 'lassie': 6.922918004572872, 'last': 6.006627272698717, 'lasting': 6.922918004572872, 'latched': 6.922918004572872, 'late': 6.922918004572872, 'later': 6.922918004572872, 'latest': 6.922918004572872, 'latifa': 6.922918004572872, 'latin': 6.922918004572872, 'latter': 6.922918004572872, 'laugh': 6.517452896464707, 'laughable': 6.229770824012927, 'laughed': 6.922918004572872, 'laughs': 6.922918004572872, 'layers': 6.922918004572872, 'lazy': 6.517452896464707, 'lead': 5.824305715904762, 'leading': 6.922918004572872, 'leap': 6.922918004572872, 'learn': 6.229770824012927, 'least': 5.536623643452981, 'leave': 6.517452896464707, 'leaves': 6.517452896464707, 'leaving': 6.922918004572872, 'lee': 6.922918004572872, 'left': 6.229770824012927, 'legal': 6.922918004572872, 'legendary': 6.922918004572872, 'length': 6.517452896464707, 'leni': 6.922918004572872, 'less': 6.006627272698717, 'lesser': 6.517452896464707, 'lestat': 6.922918004572872, 'let': 5.824305715904762, 'lets': 6.922918004572872, 'letting': 6.922918004572872, 'level': 6.006627272698717, 'levels': 6.517452896464707, 'lewis': 6.922918004572872, 'lid': 6.922918004572872, 'lie': 6.922918004572872, 'lies': 6.922918004572872, 'lieutenant': 6.922918004572872, 'life': 5.05111582767128, 'lifetime': 6.922918004572872, 'light': 6.517452896464707, 'lighting': 6.517452896464707, 'like': 4.005147272488593, 'liked': 5.3134800921387715, 'likes': 6.517452896464707, 'lilli': 6.922918004572872, 'lilt': 6.922918004572872, 'limitations': 6.922918004572872, 'limited': 6.922918004572872, 'linda': 6.922918004572872, 'line': 5.536623643452981, 'linear': 6.922918004572872, 'lines': 5.536623643452981, 'lino': 6.922918004572872, 'lion': 6.229770824012927, 'list': 6.517452896464707, 'literally': 6.517452896464707, 'littered': 6.922918004572872, 'little': 4.725693427236653, 'lived': 6.922918004572872, 'lives': 6.517452896464707, 'living': 6.229770824012927, 'loads': 6.517452896464707, 'local': 6.922918004572872, 'location': 6.517452896464707, 'locations': 6.922918004572872, 'loewenhielm': 6.922918004572872, 'logic': 6.922918004572872, 'london': 6.922918004572872, 'loneliness': 6.517452896464707, 'long': 5.418840607796598, 'longer': 6.922918004572872, 'look': 4.620332911578826, 'looked': 6.006627272698717, 'looking': 6.229770824012927, 'looks': 6.229770824012927, 'loose': 6.922918004572872, 'loosely': 6.922918004572872, 'lord': 6.517452896464707, 'los': 6.517452896464707, 'losing': 6.517452896464707, 'lost': 6.006627272698717, 'lot': 5.536623643452981, 'lots': 6.229770824012927, 'lousy': 6.517452896464707, 'lovable': 6.922918004572872, 'love': 4.571542747409394, 'loved': 5.3134800921387715, 'lovely': 6.006627272698717, 'loves': 6.922918004572872, 'low': 5.824305715904762, 'lower': 6.922918004572872, 'loyalty': 6.922918004572872, 'lucio': 6.922918004572872, 'lucy': 6.517452896464707, 'lugosi': 6.922918004572872, 'lust': 6.922918004572872, 'luv': 6.922918004572872, 'lyrics': 6.922918004572872, 'macbeth': 6.517452896464707, 'machine': 6.517452896464707, 'mad': 6.517452896464707, 'made': 4.480570969203668, 'magnificent': 6.922918004572872, 'main': 6.229770824012927, 'mainly': 6.922918004572872, 'major': 6.922918004572872, 'make': 4.671626205966376, 'maker': 6.922918004572872, 'makers': 6.922918004572872, 'makes': 5.418840607796598, 'making': 5.670155036077504, 'male': 6.517452896464707, 'males': 6.922918004572872, 'malta': 6.922918004572872, 'man': 5.131158535344817, 'managed': 6.922918004572872, 'manages': 6.922918004572872, 'manna': 6.922918004572872, 'mansonites': 6.922918004572872, 'many': 4.908014984030608, 'marbles': 6.922918004572872, 'march': 6.922918004572872, 'marine': 6.922918004572872, 'marion': 6.922918004572872, 'mark': 6.517452896464707, 'marred': 6.922918004572872, 'marriage': 6.922918004572872, 'martin': 6.517452896464707, 'masculine': 6.922918004572872, 'masculinity': 6.922918004572872, 'massive': 6.922918004572872, 'master': 6.006627272698717, 'masterful': 6.517452896464707, 'masterpiece': 6.517452896464707, 'masterpieces': 6.517452896464707, 'material': 6.517452896464707, 'matrix': 6.922918004572872, 'matter': 6.517452896464707, 'matthews': 6.922918004572872, 'mature': 6.229770824012927, 'may': 6.229770824012927, 'maybe': 6.006627272698717, 'mchattie': 6.922918004572872, 'mclaglen': 6.922918004572872, 'meagre': 6.922918004572872, 'mean': 6.006627272698717, 'meanders': 6.922918004572872, 'meaning': 6.229770824012927, 'meanings': 6.922918004572872, 'meant': 6.922918004572872, 'medical': 6.922918004572872, 'mediocre': 6.006627272698717, 'meld': 6.922918004572872, 'melodrama': 6.922918004572872, 'melville': 6.922918004572872, 'member': 6.517452896464707, 'members': 6.922918004572872, 'memorable': 5.670155036077504, 'memories': 6.229770824012927, 'memorized': 6.922918004572872, 'menace': 6.922918004572872, 'menacing': 6.922918004572872, 'mention': 5.824305715904762, 'mercy': 6.517452896464707, 'meredith': 6.922918004572872, 'merit': 6.922918004572872, 'mesmerising': 6.922918004572872, 'mess': 5.536623643452981, 'messages': 6.922918004572872, 'meteorite': 6.922918004572872, 'mexican': 6.922918004572872, 'michael': 6.922918004572872, 'mickey': 6.006627272698717, 'microsoft': 6.922918004572872, 'middle': 6.922918004572872, 'might': 6.517452896464707, 'mighty': 6.922918004572872, 'mind': 5.824305715904762, 'mindblowing': 6.922918004572872, 'miner': 6.922918004572872, 'mini': 6.517452896464707, 'minor': 6.922918004572872, 'minute': 6.229770824012927, 'minutes': 5.418840607796598, 'mirrormask': 6.922918004572872, 'miserable': 6.922918004572872, 'miserably': 6.922918004572872, 'mishima': 6.517452896464707, 'misplace': 6.922918004572872, 'miss': 6.922918004572872, 'missed': 6.517452896464707, 'mistakes': 6.922918004572872, 'miyazaki': 6.229770824012927, 'modern': 6.517452896464707, 'modest': 6.922918004572872, 'mollusk': 6.922918004572872, 'moment': 6.229770824012927, 'moments': 6.517452896464707, 'momentum': 6.922918004572872, 'money': 5.824305715904762, 'monica': 6.922918004572872, 'monolog': 6.922918004572872, 'monotonous': 6.922918004572872, 'monster': 6.922918004572872, 'monstrous': 6.922918004572872, 'monumental': 6.922918004572872, 'moral': 6.517452896464707, 'morgan': 6.517452896464707, 'morons': 6.922918004572872, 'mostly': 5.670155036077504, 'mother': 6.517452896464707, 'motion': 6.922918004572872, 'motivations': 6.922918004572872, 'mountain': 6.922918004572872, 'mouse': 6.517452896464707, 'mouth': 6.517452896464707, 'move': 6.922918004572872, 'moved': 6.922918004572872, 'movements': 6.922918004572872, 'moves': 6.922918004572872, 'movie': 2.7182253851819063, 'movies': 4.480570969203668, 'moving': 6.006627272698717, 'ms': 6.922918004572872, 'much': 4.725693427236653, 'muddled': 6.922918004572872, 'muppets': 6.922918004572872, 'murder': 6.922918004572872, 'murdered': 6.517452896464707, 'murdering': 6.922918004572872, 'murky': 6.922918004572872, 'music': 4.908014984030608, 'musician': 6.922918004572872, 'must': 5.536623643452981, 'mystifying': 6.922918004572872, 'naked': 6.922918004572872, 'narration': 6.922918004572872, 'narrative': 6.229770824012927, 'nasty': 6.922918004572872, 'national': 6.922918004572872, 'nationalities': 6.922918004572872, 'native': 6.922918004572872, 'natural': 6.517452896464707, 'nature': 6.517452896464707, 'naughty': 6.922918004572872, 'nearly': 6.922918004572872, 'necklace': 6.922918004572872, 'need': 6.517452896464707, 'needed': 6.517452896464707, 'needlessly': 6.922918004572872, 'negative': 6.229770824012927, 'negulesco': 6.922918004572872, 'neighbour': 6.922918004572872, 'neil': 6.517452896464707, 'nerves': 6.922918004572872, 'nervous': 6.922918004572872, 'net': 6.922918004572872, 'netflix': 6.922918004572872, 'network': 6.922918004572872, 'never': 4.725693427236653, 'nevertheless': 6.922918004572872, 'nevsky': 6.922918004572872, 'new': 5.824305715904762, 'next': 6.229770824012927, 'nice': 5.670155036077504, 'nicola': 6.922918004572872, 'night': 5.824305715904762, 'nimoy': 6.922918004572872, 'nine': 6.922918004572872, 'no': 4.357968647111335, 'noble': 6.922918004572872, 'nobody': 6.229770824012927, 'noir': 6.517452896464707, 'non': 6.006627272698717, 'none': 6.517452896464707, 'nonetheless': 6.922918004572872, 'nonsense': 6.229770824012927, 'nor': 6.922918004572872, 'normally': 6.922918004572872, 'northern': 6.922918004572872, 'nostalgia': 6.922918004572872, 'not': 2.897566313837723, 'notable': 6.517452896464707, 'notch': 6.922918004572872, 'note': 6.229770824012927, 'noteworthy': 6.517452896464707, 'nothing': 5.131158535344817, 'novella': 6.922918004572872, 'number': 6.922918004572872, 'numbers': 6.922918004572872, 'nun': 6.922918004572872, 'nuns': 6.922918004572872, 'nurse': 6.922918004572872, 'nut': 6.517452896464707, 'nuts': 6.517452896464707, 'obliged': 6.922918004572872, 'obsessed': 6.922918004572872, 'obvious': 6.922918004572872, 'obviously': 6.229770824012927, 'occasionally': 6.006627272698717, 'occupied': 6.517452896464707, 'occur': 6.922918004572872, 'occurs': 6.922918004572872, 'odd': 6.517452896464707, 'offend': 6.922918004572872, 'offensive': 6.517452896464707, 'offer': 6.922918004572872, 'offers': 6.517452896464707, 'often': 6.006627272698717, 'oh': 5.824305715904762, 'okay': 6.922918004572872, 'old': 5.670155036077504, 'olde': 6.922918004572872, 'older': 6.922918004572872, 'ole': 6.922918004572872, 'olivia': 6.922918004572872, 'omit': 6.922918004572872, 'one': 3.573013917298267, 'ones': 6.922918004572872, 'open': 6.922918004572872, 'opened': 6.517452896464707, 'opening': 6.517452896464707, 'operas': 6.922918004572872, 'opinion': 6.922918004572872, 'ordeal': 6.922918004572872, 'oriented': 6.922918004572872, 'original': 6.006627272698717, 'originality': 6.922918004572872, 'origins': 6.922918004572872, 'ortolani': 6.922918004572872, 'oscar': 6.229770824012927, 'others': 6.922918004572872, 'otherwise': 6.922918004572872, 'ought': 6.922918004572872, 'outlandish': 6.922918004572872, 'outlets': 6.922918004572872, 'outside': 6.922918004572872, 'outward': 6.922918004572872, 'overacting': 6.517452896464707, 'overall': 5.824305715904762, 'overcome': 6.922918004572872, 'overdue': 6.922918004572872, 'overly': 6.517452896464707, 'overs': 6.922918004572872, 'overt': 6.922918004572872, 'overwrought': 6.922918004572872, 'owed': 6.922918004572872, 'owls': 6.922918004572872, 'owned': 6.922918004572872, 'owns': 6.922918004572872, 'oy': 6.922918004572872, 'pace': 6.922918004572872, 'paced': 6.229770824012927, 'pacing': 6.517452896464707, 'pack': 6.922918004572872, 'paid': 6.517452896464707, 'painful': 6.517452896464707, 'painfully': 6.922918004572872, 'paint': 6.922918004572872, 'painted': 6.922918004572872, 'pair': 6.922918004572872, 'palance': 6.922918004572872, 'pandering': 6.922918004572872, 'pans': 6.922918004572872, 'paolo': 6.922918004572872, 'pap': 6.922918004572872, 'paper': 6.922918004572872, 'par': 6.517452896464707, 'parents': 6.517452896464707, 'park': 6.922918004572872, 'parker': 6.922918004572872, 'part': 5.131158535344817, 'partaking': 6.922918004572872, 'particular': 6.229770824012927, 'particularly': 5.824305715904762, 'parts': 6.006627272698717, 'passed': 6.922918004572872, 'passion': 6.922918004572872, 'past': 6.517452896464707, 'patent': 6.922918004572872, 'pathetic': 6.006627272698717, 'patriotism': 6.922918004572872, 'paul': 6.229770824012927, 'pay': 6.922918004572872, 'peaking': 6.922918004572872, 'pearls': 6.922918004572872, 'peculiarity': 6.922918004572872, 'pedestal': 6.922918004572872, 'pencil': 6.922918004572872, 'people': 4.9770078555175585, 'perabo': 6.922918004572872, 'perfect': 5.670155036077504, 'perfected': 6.922918004572872, 'perfectly': 6.229770824012927, 'performance': 5.05111582767128, 'performances': 6.006627272698717, 'perhaps': 6.006627272698717, 'period': 6.006627272698717, 'perplexing': 6.922918004572872, 'person': 6.922918004572872, 'personalities': 6.922918004572872, 'personally': 6.922918004572872, 'peter': 6.517452896464707, 'pg': 6.922918004572872, 'phantasm': 6.922918004572872, 'phenomenal': 6.922918004572872, 'philippa': 6.922918004572872, 'phony': 6.922918004572872, 'photograph': 6.922918004572872, 'photography': 6.229770824012927, 'phrase': 6.922918004572872, 'physical': 6.922918004572872, 'pi': 6.922918004572872, 'picked': 6.922918004572872, 'picture': 6.229770824012927, 'pictures': 6.517452896464707, 'piece': 5.218169912334447, 'pieces': 6.517452896464707, 'pile': 6.922918004572872, 'pillow': 6.922918004572872, 'pitch': 6.922918004572872, 'pitiful': 6.517452896464707, 'pixar': 6.922918004572872, 'place': 6.006627272698717, 'places': 6.229770824012927, 'plain': 6.517452896464707, 'plane': 6.922918004572872, 'planned': 6.922918004572872, 'plants': 6.922918004572872, 'play': 5.3134800921387715, 'played': 5.218169912334447, 'player': 6.517452896464707, 'players': 6.922918004572872, 'playing': 5.536623643452981, 'plays': 6.229770824012927, 'pleasant': 6.922918004572872, 'pleased': 6.517452896464707, 'pleaser': 6.517452896464707, 'pleasing': 6.922918004572872, 'pledge': 6.922918004572872, 'plenty': 6.517452896464707, 'plmer': 6.922918004572872, 'plot': 4.357968647111335, 'plug': 6.922918004572872, 'plus': 6.229770824012927, 'pm': 6.922918004572872, 'poet': 6.922918004572872, 'poetry': 6.517452896464707, 'poignant': 6.922918004572872, 'point': 6.006627272698717, 'pointillistic': 6.922918004572872, 'pointless': 6.229770824012927, 'poised': 6.922918004572872, 'poler': 6.922918004572872, 'political': 6.922918004572872, 'politically': 6.922918004572872, 'politics': 6.922918004572872, 'ponyo': 6.922918004572872, 'poor': 5.670155036077504, 'poorly': 6.517452896464707, 'popcorn': 6.922918004572872, 'popular': 6.517452896464707, 'portrayal': 5.670155036077504, 'portrayals': 6.922918004572872, 'portrayed': 6.922918004572872, 'portraying': 6.517452896464707, 'positive': 6.922918004572872, 'possible': 6.229770824012927, 'possibly': 6.229770824012927, 'post': 6.922918004572872, 'potted': 6.922918004572872, 'power': 6.922918004572872, 'powerful': 6.922918004572872, 'powerhouse': 6.922918004572872, 'practical': 6.922918004572872, 'practically': 6.922918004572872, 'pray': 6.922918004572872, 'precisely': 6.922918004572872, 'predict': 6.922918004572872, 'predictable': 5.218169912334447, 'predictably': 6.517452896464707, 'prejudice': 6.922918004572872, 'prelude': 6.922918004572872, 'premise': 6.006627272698717, 'prepared': 6.922918004572872, 'presence': 6.517452896464707, 'presents': 6.229770824012927, 'preservation': 6.922918004572872, 'president': 6.922918004572872, 'pretentious': 6.229770824012927, 'pretext': 6.922918004572872, 'pretty': 4.9770078555175585, 'previous': 6.517452896464707, 'primal': 6.922918004572872, 'primary': 6.922918004572872, 'probably': 5.536623643452981, 'problem': 6.517452896464707, 'problems': 6.006627272698717, 'proceedings': 6.517452896464707, 'process': 6.517452896464707, 'produce': 6.922918004572872, 'produced': 6.229770824012927, 'producer': 6.922918004572872, 'producers': 6.922918004572872, 'product': 6.922918004572872, 'production': 5.824305715904762, 'professionals': 6.922918004572872, 'professor': 6.922918004572872, 'progresses': 6.922918004572872, 'promote': 6.922918004572872, 'prompted': 6.922918004572872, 'prone': 6.922918004572872, 'propaganda': 6.922918004572872, 'properly': 6.922918004572872, 'proud': 6.517452896464707, 'proudly': 6.922918004572872, 'provided': 6.922918004572872, 'provokes': 6.922918004572872, 'provoking': 6.229770824012927, 'ps': 6.922918004572872, 'pseudo': 6.922918004572872, 'psychological': 6.517452896464707, 'psychotic': 6.922918004572872, 'public': 6.922918004572872, 'pull': 6.517452896464707, 'pulling': 6.922918004572872, 'pulls': 6.922918004572872, 'punched': 6.922918004572872, 'punches': 6.922918004572872, 'punish': 6.922918004572872, 'punishment': 6.922918004572872, 'puppet': 6.922918004572872, 'puppets': 6.517452896464707, 'pure': 6.229770824012927, 'purity': 6.922918004572872, 'put': 5.824305715904762, 'putting': 6.517452896464707, 'puzzle': 6.922918004572872, 'pyromaniac': 6.922918004572872, 'qu': 6.922918004572872, 'quaid': 6.922918004572872, 'qualities': 6.922918004572872, 'quality': 6.229770824012927, 'question': 6.517452896464707, 'questioning': 6.922918004572872, 'quick': 6.922918004572872, 'quicker': 6.922918004572872, 'quiet': 6.922918004572872, 'quinn': 6.517452896464707, 'quite': 5.3134800921387715, 'race': 6.229770824012927, 'racial': 6.517452896464707, 'racism': 6.517452896464707, 'radiant': 6.922918004572872, 'raging': 6.922918004572872, 'random': 6.922918004572872, 'range': 6.922918004572872, 'ranks': 6.229770824012927, 'rare': 6.922918004572872, 'rate': 6.229770824012927, 'rated': 6.517452896464707, 'rather': 5.670155036077504, 'rating': 6.006627272698717, 'ratings': 6.517452896464707, 'raver': 6.922918004572872, 'raw': 6.922918004572872, 'ray': 6.517452896464707, 'reactions': 6.517452896464707, 'readers': 6.922918004572872, 'reading': 6.517452896464707, 'ready': 6.229770824012927, 'real': 4.571542747409394, 'realised': 6.922918004572872, 'realistic': 6.517452896464707, 'reality': 6.517452896464707, 'realize': 6.922918004572872, 'realized': 6.922918004572872, 'really': 4.089704660516656, 'reason': 6.229770824012927, 'reasonable': 6.922918004572872, 'reasons': 6.922918004572872, 'receive': 6.922918004572872, 'received': 6.517452896464707, 'recent': 6.229770824012927, 'recently': 6.517452896464707, 'recommend': 5.05111582767128, 'recommended': 5.670155036077504, 'reconciliation': 6.922918004572872, 'recover': 6.922918004572872, 'recurring': 6.922918004572872, 'redeemed': 6.922918004572872, 'redeeming': 6.517452896464707, 'reenactments': 6.922918004572872, 'references': 6.517452896464707, 'reflected': 6.922918004572872, 'refreshing': 6.922918004572872, 'regardless': 6.922918004572872, 'regret': 6.517452896464707, 'regrettable': 6.922918004572872, 'regrettably': 6.922918004572872, 'rejection': 6.922918004572872, 'relate': 6.922918004572872, 'related': 6.922918004572872, 'relation': 6.922918004572872, 'relations': 6.517452896464707, 'relationship': 6.922918004572872, 'relationships': 6.517452896464707, 'relatively': 6.922918004572872, 'relaxing': 6.922918004572872, 'release': 6.922918004572872, 'released': 6.229770824012927, 'relief': 6.922918004572872, 'relying': 6.922918004572872, 'remaining': 6.517452896464707, 'remake': 6.229770824012927, 'remarkable': 6.922918004572872, 'remember': 6.229770824012927, 'reminded': 6.922918004572872, 'remotely': 6.517452896464707, 'removing': 6.922918004572872, 'rendering': 6.922918004572872, 'rendition': 6.922918004572872, 'renowned': 6.922918004572872, 'rent': 5.670155036077504, 'repair': 6.922918004572872, 'repeated': 6.922918004572872, 'repeating': 6.922918004572872, 'repeats': 6.922918004572872, 'repertory': 6.922918004572872, 'reporter': 6.922918004572872, 'represents': 6.922918004572872, 'require': 6.922918004572872, 'rescue': 6.922918004572872, 'researched': 6.922918004572872, 'resounding': 6.922918004572872, 'respecting': 6.922918004572872, 'rest': 6.006627272698717, 'restrained': 6.922918004572872, 'result': 6.517452896464707, 'results': 6.922918004572872, 'resume': 6.922918004572872, 'retarded': 6.922918004572872, 'retreat': 6.922918004572872, 'return': 6.517452896464707, 'revealing': 6.517452896464707, 'revenge': 6.922918004572872, 'revere': 6.922918004572872, 'reverse': 6.922918004572872, 'review': 6.517452896464707, 'reviewer': 6.517452896464707, 'reviewers': 6.922918004572872, 'reviews': 6.922918004572872, 'rice': 6.922918004572872, 'rickman': 6.922918004572872, 'ridiculous': 5.824305715904762, 'ridiculousness': 6.922918004572872, 'right': 5.05111582767128, 'riot': 6.922918004572872, 'rips': 6.922918004572872, 'rise': 6.922918004572872, 'rita': 6.922918004572872, 'rivalry': 6.922918004572872, 'riveted': 6.922918004572872, 'riz': 6.922918004572872, 'road': 6.922918004572872, 'robert': 6.517452896464707, 'robotic': 6.922918004572872, 'rochon': 6.922918004572872, 'rocked': 6.922918004572872, 'rocks': 6.922918004572872, 'roeg': 6.922918004572872, 'role': 6.006627272698717, 'roles': 6.006627272698717, 'roller': 6.922918004572872, 'rolls': 6.922918004572872, 'romantic': 6.922918004572872, 'room': 6.517452896464707, 'roosevelt': 6.922918004572872, 'roth': 6.922918004572872, 'rough': 6.922918004572872, 'round': 6.922918004572872, 'routine': 6.922918004572872, 'row': 6.922918004572872, 'rpg': 6.922918004572872, 'rpger': 6.922918004572872, 'rubbish': 6.922918004572872, 'rubin': 6.922918004572872, 'rumbles': 6.922918004572872, 'run': 6.517452896464707, 'running': 6.517452896464707, 'ruthless': 6.517452896464707, 'ryan': 6.922918004572872, 'ryans': 6.922918004572872, 'sabotages': 6.922918004572872, 'sack': 6.922918004572872, 'sacrifice': 6.922918004572872, 'sad': 6.922918004572872, 'said': 6.006627272698717, 'sake': 6.517452896464707, 'salesman': 6.922918004572872, 'sam': 6.922918004572872, 'sample': 6.922918004572872, 'sand': 6.517452896464707, 'sandra': 6.517452896464707, 'sappiest': 6.922918004572872, 'sarcophage': 6.922918004572872, 'sat': 6.922918004572872, 'satanic': 6.922918004572872, 'savalas': 6.922918004572872, 'savant': 6.922918004572872, 'save': 6.922918004572872, 'savor': 6.922918004572872, 'saw': 5.05111582767128, 'say': 5.131158535344817, 'says': 6.922918004572872, 'scale': 6.229770824012927, 'scamp': 6.922918004572872, 'scare': 6.922918004572872, 'scared': 6.229770824012927, 'scares': 6.922918004572872, 'scary': 6.517452896464707, 'scene': 5.131158535344817, 'scenery': 6.229770824012927, 'scenes': 4.782851841076601, 'schilling': 6.922918004572872, 'schizophrenic': 6.922918004572872, 'school': 6.922918004572872, 'schoolers': 6.922918004572872, 'schrader': 6.517452896464707, 'schultz': 6.922918004572872, 'sci': 6.517452896464707, 'science': 6.922918004572872, 'scientist': 6.922918004572872, 'score': 6.229770824012927, 'scot': 6.922918004572872, 'scream': 6.922918004572872, 'screamy': 6.922918004572872, 'screen': 5.3134800921387715, 'screened': 6.922918004572872, 'screenplay': 6.922918004572872, 'screenwriter': 6.229770824012927, 'scrimm': 6.922918004572872, 'script': 4.671626205966376, 'scripted': 6.922918004572872, 'scripting': 6.922918004572872, 'scripts': 6.922918004572872, 'sculpture': 6.922918004572872, 'sea': 6.229770824012927, 'seamless': 6.922918004572872, 'seamlessly': 6.922918004572872, 'sean': 6.922918004572872, 'season': 6.517452896464707, 'seat': 6.922918004572872, 'second': 5.670155036077504, 'secondary': 6.922918004572872, 'secondly': 6.922918004572872, 'see': 4.0325462466767075, 'seeing': 5.536623643452981, 'seem': 6.006627272698717, 'seemed': 6.229770824012927, 'seems': 6.229770824012927, 'seen': 4.480570969203668, 'selections': 6.922918004572872, 'self': 5.670155036077504, 'sells': 6.922918004572872, 'semi': 6.922918004572872, 'senior': 6.922918004572872, 'sense': 6.517452896464707, 'senses': 6.517452896464707, 'sensibility': 6.922918004572872, 'sensitivities': 6.922918004572872, 'sentiment': 6.517452896464707, 'seperate': 6.922918004572872, 'sequel': 6.517452896464707, 'sequels': 6.922918004572872, 'sequence': 6.517452896464707, 'sequences': 6.922918004572872, 'series': 5.418840607796598, 'serious': 6.006627272698717, 'seriously': 6.229770824012927, 'served': 6.922918004572872, 'set': 6.229770824012927, 'sets': 6.006627272698717, 'setting': 6.517452896464707, 'settings': 6.922918004572872, 'seuss': 6.922918004572872, 'several': 6.517452896464707, 'sex': 6.922918004572872, 'shakespear': 6.922918004572872, 'shakespears': 6.922918004572872, 'shallow': 6.922918004572872, 'shame': 6.517452896464707, 'shameful': 6.922918004572872, 'share': 6.229770824012927, 'sharing': 6.922918004572872, 'sharply': 6.922918004572872, 'shatner': 6.922918004572872, 'shattered': 6.922918004572872, 'shed': 6.517452896464707, 'sheer': 6.922918004572872, 'shelf': 6.922918004572872, 'shell': 6.922918004572872, 'shelves': 6.922918004572872, 'shenanigans': 6.922918004572872, 'shepard': 6.922918004572872, 'shined': 6.922918004572872, 'shirley': 6.922918004572872, 'shocking': 6.922918004572872, 'shooting': 6.922918004572872, 'short': 5.131158535344817, 'shortlist': 6.922918004572872, 'shot': 5.824305715904762, 'shots': 6.229770824012927, 'show': 4.782851841076601, 'showcasing': 6.922918004572872, 'showed': 6.229770824012927, 'shows': 6.229770824012927, 'shut': 6.922918004572872, 'sibling': 6.922918004572872, 'sick': 6.517452896464707, 'side': 6.922918004572872, 'sidelined': 6.922918004572872, 'sign': 6.922918004572872, 'significant': 6.517452896464707, 'silent': 6.229770824012927, 'silly': 6.922918004572872, 'simmering': 6.922918004572872, 'simplifying': 6.922918004572872, 'simply': 5.418840607796598, 'since': 5.824305715904762, 'sincere': 6.922918004572872, 'sing': 6.922918004572872, 'singing': 6.229770824012927, 'single': 5.824305715904762, 'sinister': 6.922918004572872, 'sink': 6.922918004572872, 'sinking': 6.922918004572872, 'sister': 6.922918004572872, 'sisters': 6.517452896464707, 'sit': 6.922918004572872, 'sitcoms': 6.922918004572872, 'site': 6.922918004572872, 'sites': 6.922918004572872, 'sits': 6.922918004572872, 'situation': 6.517452896464707, 'situations': 6.922918004572872, 'skilled': 6.922918004572872, 'skip': 6.922918004572872, 'slackers': 6.922918004572872, 'slavic': 6.922918004572872, 'sleep': 6.517452896464707, 'slideshow': 6.922918004572872, 'slightest': 6.517452896464707, 'slightly': 6.922918004572872, 'slimy': 6.922918004572872, 'sloppy': 6.922918004572872, 'slow': 5.670155036077504, 'slurs': 6.922918004572872, 'smack': 6.922918004572872, 'small': 6.006627272698717, 'smart': 6.229770824012927, 'smells': 6.922918004572872, 'smile': 6.517452896464707, 'smiling': 6.922918004572872, 'smith': 6.922918004572872, 'smoothly': 6.922918004572872, 'snider': 6.922918004572872, 'snow': 6.922918004572872, 'soap': 6.922918004572872, 'sobering': 6.922918004572872, 'social': 6.922918004572872, 'soldiers': 6.922918004572872, 'sole': 6.922918004572872, 'solid': 5.824305715904762, 'solidifying': 6.922918004572872, 'solving': 6.922918004572872, 'someone': 6.229770824012927, 'something': 6.006627272698717, 'sometimes': 6.006627272698717, 'somewhat': 6.517452896464707, 'son': 6.517452896464707, 'song': 6.229770824012927, 'songs': 6.006627272698717, 'soon': 6.922918004572872, 'sophisticated': 6.922918004572872, 'sorrentino': 6.922918004572872, 'sorry': 6.922918004572872, 'sort': 6.229770824012927, 'soul': 6.517452896464707, 'sound': 5.670155036077504, 'sounded': 6.922918004572872, 'sounds': 6.922918004572872, 'soundtrack': 6.006627272698717, 'sour': 6.922918004572872, 'south': 6.229770824012927, 'southern': 6.922918004572872, 'space': 6.229770824012927, 'spacek': 6.922918004572872, 'spacey': 6.922918004572872, 'span': 6.922918004572872, 'speak': 6.229770824012927, 'speaking': 6.922918004572872, 'special': 5.418840607796598, 'speed': 6.517452896464707, 'spend': 6.922918004572872, 'spent': 6.229770824012927, 'spew': 6.922918004572872, 'sphere': 6.922918004572872, 'spiffy': 6.922918004572872, 'splendid': 6.922918004572872, 'spock': 6.922918004572872, 'spoil': 6.922918004572872, 'spoiled': 6.922918004572872, 'spoiler': 6.517452896464707, 'spoilers': 6.229770824012927, 'spot': 6.922918004572872, 'spy': 6.922918004572872, 'squibs': 6.922918004572872, 'stable': 6.922918004572872, 'stage': 6.517452896464707, 'stagy': 6.922918004572872, 'stand': 6.517452896464707, 'standout': 6.922918004572872, 'stanwyck': 6.229770824012927, 'star': 6.006627272698717, 'starlet': 6.922918004572872, 'starring': 6.922918004572872, 'stars': 6.229770824012927, 'start': 6.517452896464707, 'started': 5.824305715904762, 'starts': 6.922918004572872, 'state': 6.922918004572872, 'stay': 6.517452896464707, 'stayed': 6.922918004572872, 'stealing': 6.922918004572872, 'steamboat': 6.922918004572872, 'steele': 6.922918004572872, 'step': 6.517452896464707, 'stephen': 6.922918004572872, 'stereotypes': 6.517452896464707, 'stereotypically': 6.922918004572872, 'steve': 6.517452896464707, 'stewart': 6.922918004572872, 'stick': 6.922918004572872, 'still': 4.908014984030608, 'stinker': 6.922918004572872, 'stinks': 6.922918004572872, 'stocking': 6.922918004572872, 'stockings': 6.922918004572872, 'stoic': 6.922918004572872, 'store': 6.517452896464707, 'stories': 6.006627272698717, 'storm': 6.922918004572872, 'story': 4.571542747409394, 'storyline': 6.006627272698717, 'storytelling': 6.922918004572872, 'stowe': 6.922918004572872, 'strange': 6.922918004572872, 'stranger': 6.922918004572872, 'stratus': 6.922918004572872, 'straw': 6.922918004572872, 'street': 6.922918004572872, 'strident': 6.922918004572872, 'string': 6.922918004572872, 'strives': 6.922918004572872, 'strokes': 6.922918004572872, 'strong': 5.824305715904762, 'struck': 6.922918004572872, 'structure': 6.922918004572872, 'struggle': 6.922918004572872, 'stuart': 6.922918004572872, 'student': 6.922918004572872, 'students': 6.922918004572872, 'studio': 6.517452896464707, 'study': 6.922918004572872, 'stuff': 6.922918004572872, 'stunning': 6.517452896464707, 'stupid': 4.9770078555175585, 'stupidity': 6.922918004572872, 'style': 5.670155036077504, 'stylized': 6.922918004572872, 'sub': 6.229770824012927, 'subject': 6.922918004572872, 'subjects': 6.922918004572872, 'sublime': 6.517452896464707, 'sublimely': 6.922918004572872, 'subplots': 6.922918004572872, 'subtitles': 6.922918004572872, 'subtle': 5.670155036077504, 'subversive': 6.922918004572872, 'subverting': 6.922918004572872, 'succeeded': 6.922918004572872, 'succeeds': 6.922918004572872, 'success': 6.922918004572872, 'suck': 6.922918004572872, 'sucked': 6.229770824012927, 'sucks': 6.922918004572872, 'suffered': 6.922918004572872, 'suffering': 6.517452896464707, 'suggest': 6.922918004572872, 'suggests': 6.922918004572872, 'suited': 6.922918004572872, 'sum': 6.517452896464707, 'summary': 6.517452896464707, 'sundays': 6.922918004572872, 'super': 6.229770824012927, 'superb': 5.824305715904762, 'superbad': 6.922918004572872, 'superbly': 6.517452896464707, 'superficial': 6.922918004572872, 'superlative': 6.922918004572872, 'supernatural': 6.922918004572872, 'supporting': 6.922918004572872, 'supposed': 6.517452896464707, 'supposedly': 6.517452896464707, 'sure': 6.229770824012927, 'surely': 6.922918004572872, 'surf': 6.922918004572872, 'surface': 6.922918004572872, 'surprised': 6.922918004572872, 'surprises': 6.922918004572872, 'surprising': 6.517452896464707, 'surprisingly': 6.229770824012927, 'surrounding': 6.517452896464707, 'surroundings': 6.922918004572872, 'survivors': 6.922918004572872, 'suspense': 5.418840607796598, 'suspension': 6.922918004572872, 'sven': 6.922918004572872, 'swamp': 6.922918004572872, 'sweep': 6.922918004572872, 'sweet': 6.922918004572872, 'switched': 6.922918004572872, 'swords': 6.922918004572872, 'sydney': 6.922918004572872, 'sympathetic': 6.922918004572872, 'syrupy': 6.922918004572872, 'system': 6.922918004572872, 'tacky': 6.922918004572872, 'taelons': 6.922918004572872, 'take': 5.670155036077504, 'taken': 6.922918004572872, 'takes': 6.517452896464707, 'taking': 6.517452896464707, 'tale': 6.006627272698717, 'talent': 6.517452896464707, 'talented': 6.229770824012927, 'talents': 6.922918004572872, 'talk': 5.824305715904762, 'tanks': 6.922918004572872, 'taped': 6.517452896464707, 'tardis': 6.922918004572872, 'task': 6.922918004572872, 'taste': 6.922918004572872, 'taxidermists': 6.922918004572872, 'taylor': 6.517452896464707, 'teacher': 6.922918004572872, 'teaches': 6.922918004572872, 'team': 6.922918004572872, 'tear': 6.922918004572872, 'tears': 6.922918004572872, 'technically': 6.922918004572872, 'teddy': 6.922918004572872, 'tedium': 6.922918004572872, 'teen': 6.922918004572872, 'teenagers': 6.922918004572872, 'teeth': 6.922918004572872, 'telephone': 6.922918004572872, 'television': 6.922918004572872, 'tell': 6.006627272698717, 'telly': 6.922918004572872, 'temperaments': 6.922918004572872, 'ten': 6.517452896464707, 'tender': 6.922918004572872, 'tension': 6.517452896464707, 'tensions': 6.922918004572872, 'terminology': 6.922918004572872, 'terms': 6.517452896464707, 'terrible': 5.218169912334447, 'terribly': 6.517452896464707, 'terrific': 6.006627272698717, 'terror': 6.922918004572872, 'th': 6.922918004572872, 'thanks': 6.922918004572872, 'theater': 6.006627272698717, 'theatre': 6.922918004572872, 'theatres': 6.922918004572872, 'theatrical': 6.922918004572872, 'theme': 6.517452896464707, 'themes': 6.517452896464707, 'therapy': 6.922918004572872, 'thick': 6.922918004572872, 'thing': 5.131158535344817, 'things': 5.05111582767128, 'think': 4.671626205966376, 'thinking': 6.229770824012927, 'thomerson': 6.922918004572872, 'thoroughly': 6.229770824012927, 'thorsen': 6.922918004572872, 'though': 5.131158535344817, 'thought': 5.05111582767128, 'thoughts': 6.517452896464707, 'thousand': 6.922918004572872, 'thread': 6.922918004572872, 'three': 6.922918004572872, 'threshold': 6.922918004572872, 'thrilled': 6.517452896464707, 'thriller': 6.229770824012927, 'thrillers': 6.922918004572872, 'throughout': 5.670155036077504, 'throwback': 6.922918004572872, 'thrown': 6.229770824012927, 'thug': 6.922918004572872, 'thumper': 6.922918004572872, 'thunderbirds': 6.922918004572872, 'thus': 6.922918004572872, 'ticker': 6.922918004572872, 'tickets': 6.922918004572872, 'tightly': 6.922918004572872, 'time': 3.9525035390031706, 'timeless': 6.922918004572872, 'timely': 6.922918004572872, 'timers': 6.922918004572872, 'times': 5.824305715904762, 'timing': 6.922918004572872, 'tiny': 6.922918004572872, 'tired': 6.922918004572872, 'title': 6.922918004572872, 'titta': 6.922918004572872, 'today': 6.006627272698717, 'together': 5.536623643452981, 'told': 6.229770824012927, 'tolerable': 6.922918004572872, 'tolerate': 6.922918004572872, 'tom': 5.824305715904762, 'tomorrow': 6.922918004572872, 'tone': 6.922918004572872, 'tongue': 6.922918004572872, 'tonight': 6.922918004572872, 'tons': 6.922918004572872, 'tony': 6.922918004572872, 'took': 6.517452896464707, 'toons': 6.922918004572872, 'top': 5.536623643452981, 'tops': 6.922918004572872, 'torture': 6.006627272698717, 'tortured': 6.922918004572872, 'total': 6.922918004572872, 'totally': 5.05111582767128, 'touch': 6.922918004572872, 'touches': 6.922918004572872, 'touching': 6.229770824012927, 'tough': 6.922918004572872, 'towards': 6.517452896464707, 'towers': 6.922918004572872, 'townsend': 6.922918004572872, 'track': 6.922918004572872, 'tract': 6.922918004572872, 'traditional': 6.922918004572872, 'traffic': 6.922918004572872, 'trailer': 6.922918004572872, 'train': 6.922918004572872, 'tranquillity': 6.922918004572872, 'transcend': 6.922918004572872, 'transfers': 6.922918004572872, 'translate': 6.922918004572872, 'translating': 6.922918004572872, 'trap': 6.922918004572872, 'trash': 6.006627272698717, 'trashy': 6.922918004572872, 'treachery': 6.922918004572872, 'treasure': 6.922918004572872, 'treat': 6.922918004572872, 'treatments': 6.922918004572872, 'trek': 6.922918004572872, 'tremendous': 6.922918004572872, 'tremendously': 6.517452896464707, 'tries': 6.922918004572872, 'trilogy': 6.922918004572872, 'trinity': 6.922918004572872, 'trip': 6.922918004572872, 'triumphed': 6.922918004572872, 'trond': 6.922918004572872, 'trooper': 6.922918004572872, 'trouble': 6.922918004572872, 'truck': 6.922918004572872, 'true': 6.006627272698717, 'truly': 5.418840607796598, 'trumbull': 6.922918004572872, 'trumpeter': 6.922918004572872, 'truth': 6.922918004572872, 'try': 6.229770824012927, 'trying': 6.006627272698717, 'trysts': 6.922918004572872, 'tsunami': 6.922918004572872, 'tuneful': 6.922918004572872, 'turkey': 6.922918004572872, 'turn': 6.229770824012927, 'turned': 6.517452896464707, 'turns': 6.517452896464707, 'tv': 5.536623643452981, 'twice': 6.517452896464707, 'twirling': 6.922918004572872, 'twist': 6.517452896464707, 'twists': 6.922918004572872, 'two': 5.3134800921387715, 'tying': 6.922918004572872, 'type': 6.517452896464707, 'typical': 6.922918004572872, 'ue': 6.922918004572872, 'ugliest': 6.922918004572872, 'ugly': 6.922918004572872, 'uhura': 6.922918004572872, 'ultra': 6.922918004572872, 'um': 6.922918004572872, 'unaccompanied': 6.922918004572872, 'unbearable': 6.922918004572872, 'unbearably': 6.922918004572872, 'unbelievable': 6.006627272698717, 'uncalled': 6.922918004572872, 'unconditional': 6.922918004572872, 'unconvincing': 6.229770824012927, 'underacting': 6.922918004572872, 'underappreciated': 6.922918004572872, 'underbite': 6.922918004572872, 'underlines': 6.922918004572872, 'underlying': 6.517452896464707, 'underneath': 6.517452896464707, 'underrated': 6.922918004572872, 'understand': 5.3134800921387715, 'understanding': 6.922918004572872, 'understated': 6.517452896464707, 'understatement': 6.922918004572872, 'understood': 6.922918004572872, 'undertone': 6.922918004572872, 'underwater': 6.922918004572872, 'undoubtedly': 6.517452896464707, 'uneasy': 6.922918004572872, 'unemployed': 6.922918004572872, 'unethical': 6.922918004572872, 'unfaithful': 6.922918004572872, 'unfolds': 6.517452896464707, 'unforgettable': 6.922918004572872, 'unfortunate': 6.922918004572872, 'unfortunately': 6.006627272698717, 'unfunny': 6.517452896464707, 'unintentionally': 6.922918004572872, 'uninteresting': 6.517452896464707, 'union': 6.922918004572872, 'unique': 6.922918004572872, 'uniqueness': 6.922918004572872, 'universal': 6.922918004572872, 'universe': 6.922918004572872, 'unless': 6.922918004572872, 'unlockable': 6.922918004572872, 'unmatched': 6.922918004572872, 'unmitigated': 6.922918004572872, 'unmoving': 6.922918004572872, 'unnecessary': 6.922918004572872, 'unneeded': 6.922918004572872, 'unoriginal': 6.922918004572872, 'unpleasant': 6.922918004572872, 'unpredictability': 6.922918004572872, 'unpredictable': 6.517452896464707, 'unrealistic': 6.922918004572872, 'unrecognizable': 6.517452896464707, 'unrecommended': 6.922918004572872, 'unremarkable': 6.922918004572872, 'unrestrained': 6.922918004572872, 'unsatisfactory': 6.922918004572872, 'unwatchable': 6.922918004572872, 'upa': 6.922918004572872, 'uplifting': 6.517452896464707, 'upper': 6.922918004572872, 'ups': 6.006627272698717, 'uptight': 6.922918004572872, 'ursula': 6.922918004572872, 'us': 6.006627272698717, 'use': 5.670155036077504, 'used': 5.536623643452981, 'user': 6.922918004572872, 'uses': 6.517452896464707, 'using': 6.922918004572872, 'ussr': 6.922918004572872, 'usual': 6.006627272698717, 'utter': 6.922918004572872, 'utterly': 6.006627272698717, 'valentine': 6.922918004572872, 'value': 6.922918004572872, 'values': 6.229770824012927, 'vampire': 6.922918004572872, 'vandiver': 6.922918004572872, 'variation': 6.922918004572872, 'vehicles': 6.922918004572872, 'ventura': 6.922918004572872, 'verbal': 6.922918004572872, 'verbatim': 6.922918004572872, 'versatile': 6.922918004572872, 'version': 6.922918004572872, 'versus': 6.922918004572872, 'vessel': 6.922918004572872, 'veteran': 6.922918004572872, 'vey': 6.922918004572872, 'vibe': 6.922918004572872, 'victor': 6.922918004572872, 'video': 6.517452896464707, 'view': 6.922918004572872, 'viewer': 6.922918004572872, 'viewing': 6.517452896464707, 'views': 6.922918004572872, 'villain': 6.922918004572872, 'villains': 6.922918004572872, 'violence': 6.922918004572872, 'violin': 6.922918004572872, 'virtue': 6.922918004572872, 'virus': 6.922918004572872, 'vision': 6.922918004572872, 'visual': 6.006627272698717, 'visually': 6.517452896464707, 'vitally': 6.922918004572872, 'vivian': 6.922918004572872, 'vivid': 6.922918004572872, 'vocal': 6.922918004572872, 'voice': 6.517452896464707, 'volatile': 6.922918004572872, 'volcano': 6.517452896464707, 'vomit': 6.517452896464707, 'vomited': 6.922918004572872, 'voyage': 6.922918004572872, 'vulcan': 6.922918004572872, 'waiting': 6.922918004572872, 'waitress': 6.922918004572872, 'walk': 6.922918004572872, 'walked': 6.517452896464707, 'wall': 6.517452896464707, 'want': 5.670155036077504, 'wanted': 6.517452896464707, 'wanting': 6.922918004572872, 'wants': 6.922918004572872, 'war': 6.229770824012927, 'warmth': 6.517452896464707, 'warn': 6.922918004572872, 'warning': 6.922918004572872, 'wartime': 6.922918004572872, 'warts': 6.922918004572872, 'washed': 6.922918004572872, 'washing': 6.922918004572872, 'waste': 4.9770078555175585, 'wasted': 5.824305715904762, 'waster': 6.922918004572872, 'wasting': 6.922918004572872, 'watch': 4.725693427236653, 'watchable': 6.517452896464707, 'watched': 5.418840607796598, 'watching': 4.671626205966376, 'water': 6.922918004572872, 'watkins': 6.517452896464707, 'watson': 6.517452896464707, 'wave': 6.922918004572872, 'way': 4.525022731774501, 'waylaid': 6.922918004572872, 'wayne': 6.922918004572872, 'ways': 6.517452896464707, 'wb': 6.922918004572872, 'weak': 6.517452896464707, 'weaker': 6.922918004572872, 'weariness': 6.922918004572872, 'weaving': 6.922918004572872, 'website': 6.922918004572872, 'wedding': 6.922918004572872, 'weight': 6.922918004572872, 'weird': 6.517452896464707, 'well': 4.119557623666337, 'welsh': 6.922918004572872, 'went': 6.922918004572872, 'whatever': 5.670155036077504, 'whatsoever': 6.229770824012927, 'whenever': 6.922918004572872, 'whether': 6.229770824012927, 'whine': 6.922918004572872, 'whiny': 6.517452896464707, 'white': 5.418840607796598, 'whites': 6.922918004572872, 'whoever': 6.922918004572872, 'whole': 5.670155036077504, 'wholesome': 6.517452896464707, 'wide': 6.922918004572872, 'widmark': 6.922918004572872, 'wife': 6.922918004572872, 'wih': 6.922918004572872, 'wild': 6.922918004572872, 'wilkinson': 6.229770824012927, 'william': 6.922918004572872, 'willie': 6.922918004572872, 'wily': 6.922918004572872, 'win': 6.922918004572872, 'wind': 6.229770824012927, 'wise': 6.922918004572872, 'wish': 6.229770824012927, 'within': 6.922918004572872, 'without': 6.006627272698717, 'witticisms': 6.922918004572872, 'witty': 6.517452896464707, 'woa': 6.922918004572872, 'women': 6.229770824012927, 'wonder': 6.517452896464707, 'wondered': 6.922918004572872, 'wonderful': 4.671626205966376, 'wonderfully': 6.229770824012927, 'wong': 6.922918004572872, 'wont': 6.922918004572872, 'woo': 6.922918004572872, 'wooden': 6.517452896464707, 'word': 5.824305715904762, 'words': 6.229770824012927, 'work': 4.671626205966376, 'worked': 6.922918004572872, 'working': 6.517452896464707, 'works': 5.824305715904762, 'world': 5.824305715904762, 'worry': 6.922918004572872, 'worse': 5.218169912334447, 'worst': 5.218169912334447, 'worth': 4.9770078555175585, 'worthless': 6.922918004572872, 'worthwhile': 6.922918004572872, 'worthy': 6.922918004572872, 'would': 4.283860674957613, 'wouldnt': 6.922918004572872, 'woven': 6.922918004572872, 'wow': 6.922918004572872, 'wrap': 6.922918004572872, 'write': 6.517452896464707, 'writer': 6.229770824012927, 'writers': 6.922918004572872, 'writing': 4.9770078555175585, 'written': 5.536623643452981, 'wrong': 6.229770824012927, 'wrote': 6.922918004572872, 'yardley': 6.922918004572872, 'yawn': 6.922918004572872, 'yeah': 6.517452896464707, 'year': 6.229770824012927, 'years': 5.05111582767128, 'yelps': 6.922918004572872, 'yes': 6.229770824012927, 'yet': 5.824305715904762, 'young': 6.006627272698717, 'younger': 6.922918004572872, 'youthful': 6.922918004572872, 'youtube': 6.922918004572872, 'yun': 6.922918004572872, 'zillion': 6.922918004572872, 'zombie': 6.517452896464707, 'zombiez': 6.922918004572872}\n",
            "2886\n",
            "{'aailiyah': 6.922918004572872, 'abandoned': 6.922918004572872, 'abroad': 6.922918004572872, 'abstruse': 6.922918004572872, 'academy': 6.922918004572872, 'accents': 6.922918004572872, 'accessible': 6.922918004572872, 'acclaimed': 6.922918004572872, 'accolades': 6.922918004572872, 'accurate': 6.922918004572872, 'accurately': 6.922918004572872, 'achille': 6.922918004572872, 'ackerman': 6.922918004572872, 'actions': 6.922918004572872, 'adams': 6.922918004572872, 'add': 6.922918004572872, 'added': 6.922918004572872, 'admins': 6.922918004572872, 'admiration': 6.922918004572872, 'admitted': 6.922918004572872, 'adrift': 6.922918004572872, 'adventure': 6.922918004572872, 'aesthetically': 6.922918004572872, 'affected': 6.922918004572872, 'affleck': 6.922918004572872, 'afternoon': 6.922918004572872, 'aged': 6.922918004572872, 'ages': 6.922918004572872, 'agree': 6.922918004572872, 'agreed': 6.922918004572872, 'aimless': 6.922918004572872, 'aired': 6.922918004572872, 'akasha': 6.922918004572872, 'akin': 6.922918004572872, 'alert': 6.922918004572872, 'alike': 6.922918004572872, 'allison': 6.922918004572872, 'allow': 6.922918004572872, 'allowing': 6.922918004572872, 'alongside': 6.922918004572872, 'amateurish': 6.922918004572872, 'amaze': 6.922918004572872, 'amazed': 6.922918004572872, 'amazingly': 6.922918004572872, 'amusing': 6.922918004572872, 'amust': 6.922918004572872, 'anatomist': 6.922918004572872, 'angel': 6.922918004572872, 'angela': 6.922918004572872, 'angelina': 6.922918004572872}\n",
            "50\n",
            "['aailiyah', 'abandoned', 'abroad', 'abstruse', 'academy', 'accents', 'accessible', 'acclaimed', 'accolades', 'accurate', 'accurately', 'achille', 'ackerman', 'actions', 'adams', 'add', 'added', 'admins', 'admiration', 'admitted', 'adrift', 'adventure', 'aesthetically', 'affected', 'affleck', 'afternoon', 'aged', 'ages', 'agree', 'agreed', 'aimless', 'aired', 'akasha', 'akin', 'alert', 'alike', 'allison', 'allow', 'allowing', 'alongside', 'amateurish', 'amaze', 'amazed', 'amazingly', 'amusing', 'amust', 'anatomist', 'angel', 'angela', 'angelina']\n",
            "50\n"
          ],
          "name": "stdout"
        }
      ]
    },
    {
      "cell_type": "code",
      "metadata": {
        "colab": {
          "base_uri": "https://localhost:8080/"
        },
        "id": "l6VCv1VTmkWX",
        "outputId": "e714701c-9806-43e6-fbf3-5c23c3d2481a"
      },
      "source": [
        "vocabdict"
      ],
      "execution_count": 22,
      "outputs": [
        {
          "output_type": "execute_result",
          "data": {
            "text/plain": [
              "{'aailiyah': 0,\n",
              " 'abandoned': 1,\n",
              " 'abroad': 2,\n",
              " 'abstruse': 3,\n",
              " 'academy': 4,\n",
              " 'accents': 5,\n",
              " 'accessible': 6,\n",
              " 'acclaimed': 7,\n",
              " 'accolades': 8,\n",
              " 'accurate': 9,\n",
              " 'accurately': 10,\n",
              " 'achille': 11,\n",
              " 'ackerman': 12,\n",
              " 'actions': 13,\n",
              " 'adams': 14,\n",
              " 'add': 15,\n",
              " 'added': 16,\n",
              " 'admins': 17,\n",
              " 'admiration': 18,\n",
              " 'admitted': 19,\n",
              " 'adrift': 20,\n",
              " 'adventure': 21,\n",
              " 'aesthetically': 22,\n",
              " 'affected': 23,\n",
              " 'affleck': 24,\n",
              " 'afternoon': 25,\n",
              " 'aged': 26,\n",
              " 'ages': 27,\n",
              " 'agree': 28,\n",
              " 'agreed': 29,\n",
              " 'aimless': 30,\n",
              " 'aired': 31,\n",
              " 'akasha': 32,\n",
              " 'akin': 33,\n",
              " 'alert': 34,\n",
              " 'alike': 35,\n",
              " 'allison': 36,\n",
              " 'allow': 37,\n",
              " 'allowing': 38,\n",
              " 'alongside': 39,\n",
              " 'amateurish': 40,\n",
              " 'amaze': 41,\n",
              " 'amazed': 42,\n",
              " 'amazingly': 43,\n",
              " 'amusing': 44,\n",
              " 'amust': 45,\n",
              " 'anatomist': 46,\n",
              " 'angel': 47,\n",
              " 'angela': 48,\n",
              " 'angelina': 49}"
            ]
          },
          "metadata": {
            "tags": []
          },
          "execution_count": 22
        }
      ]
    },
    {
      "cell_type": "code",
      "metadata": {
        "colab": {
          "base_uri": "https://localhost:8080/"
        },
        "id": "1yn73qHQmYMA",
        "outputId": "d697bea4-66a0-4eee-c561-c90716f46b1d"
      },
      "source": [
        "def transform(dataset,vocab):\n",
        "  rows =[]\n",
        "  columns = []\n",
        "  values = []\n",
        "  tf = 0\n",
        "  idf = 0\n",
        "  test =[]\n",
        "  def idf(dataset,word):\n",
        "    count = 0\n",
        "    for sent in dataset:\n",
        "      if word in sent.split(' '):\n",
        "        count +=1\n",
        "    return (1+math.log((1+len(dataset))/(1+count)))\n",
        "\n",
        "  if isinstance(dataset,(list,)):\n",
        "    for idx,row in enumerate(tqdm(dataset)):\n",
        "      word_freq = dict(Counter(row.split()))\n",
        "      # print(len(word_freq.keys()))\n",
        "      for word,freq in word_freq.items():\n",
        "        if len(word) <2:\n",
        "          continue\n",
        "        col_index = vocab.get(word,-1)\n",
        "        if (col_index != -1) and (word not in test):\n",
        "          tf = freq/len(row.split(' '))\n",
        "          idf_v = idf(dataset,word)\n",
        "          test.append(word)\n",
        "          # print(word,\":\",tf,\":\",idf_v)\n",
        "          # print(word,\":\",(tf*idf_v),':',idx,\":\",col_index)\n",
        "          rows.append(idx)\n",
        "          columns.append(col_index)\n",
        "          values.append(tf*idf_v)\n",
        "    csmatrix = csr_matrix((values, (rows,columns)), shape=(len(dataset),len(vocab)))\n",
        "    return normalize(csmatrix, norm='l2', axis=1, copy=True, return_norm=False)\n",
        "  else:\n",
        "    print(\"you need to pass list of strings\")\n",
        "        # print(word,':',freq,\":\",len(row.split(' ')))\n",
        "        # print(word,':',tf)\n",
        "      \n",
        "\n",
        "skloutput = transform(corpus,vocabdict)"
      ],
      "execution_count": 23,
      "outputs": [
        {
          "output_type": "stream",
          "text": [
            "100%|██████████| 746/746 [00:00<00:00, 18046.68it/s]\n"
          ],
          "name": "stderr"
        }
      ]
    },
    {
      "cell_type": "code",
      "metadata": {
        "colab": {
          "base_uri": "https://localhost:8080/"
        },
        "id": "nnREeo71mhch",
        "outputId": "b000feef-5e2b-4f66-954d-43df67a61e61"
      },
      "source": [
        "print(skloutput.shape)"
      ],
      "execution_count": 24,
      "outputs": [
        {
          "output_type": "stream",
          "text": [
            "(746, 50)\n"
          ],
          "name": "stdout"
        }
      ]
    },
    {
      "cell_type": "code",
      "metadata": {
        "colab": {
          "base_uri": "https://localhost:8080/"
        },
        "id": "vQtJMSV1m2rf",
        "outputId": "73692bff-36eb-426b-a1a6-0d05c1fe638a"
      },
      "source": [
        "print(skloutput)"
      ],
      "execution_count": 25,
      "outputs": [
        {
          "output_type": "stream",
          "text": [
            "  (0, 30)\t1.0\n",
            "  (68, 24)\t1.0\n",
            "  (72, 29)\t1.0\n",
            "  (74, 31)\t1.0\n",
            "  (119, 33)\t1.0\n",
            "  (135, 3)\t0.37796447300922725\n",
            "  (135, 10)\t0.37796447300922725\n",
            "  (135, 18)\t0.37796447300922725\n",
            "  (135, 20)\t0.37796447300922725\n",
            "  (135, 36)\t0.37796447300922725\n",
            "  (135, 40)\t0.37796447300922725\n",
            "  (135, 41)\t0.37796447300922725\n",
            "  (176, 49)\t1.0\n",
            "  (181, 13)\t1.0\n",
            "  (192, 21)\t1.0\n",
            "  (193, 23)\t1.0\n",
            "  (216, 2)\t1.0\n",
            "  (222, 47)\t1.0\n",
            "  (225, 19)\t1.0\n",
            "  (227, 17)\t1.0\n",
            "  (241, 44)\t1.0\n",
            "  (270, 1)\t1.0\n",
            "  (290, 25)\t1.0\n",
            "  (333, 26)\t1.0\n",
            "  (334, 15)\t1.0\n",
            "  (341, 43)\t1.0\n",
            "  (344, 42)\t1.0\n",
            "  (348, 8)\t1.0\n",
            "  (377, 37)\t1.0\n",
            "  (409, 5)\t1.0\n",
            "  (430, 39)\t1.0\n",
            "  (457, 45)\t1.0\n",
            "  (461, 4)\t1.0\n",
            "  (465, 38)\t1.0\n",
            "  (475, 35)\t1.0\n",
            "  (493, 6)\t1.0\n",
            "  (500, 48)\t1.0\n",
            "  (548, 0)\t0.7071067811865475\n",
            "  (548, 32)\t0.7071067811865475\n",
            "  (608, 14)\t1.0\n",
            "  (612, 11)\t1.0\n",
            "  (620, 46)\t1.0\n",
            "  (632, 7)\t1.0\n",
            "  (644, 12)\t0.7071067811865475\n",
            "  (644, 27)\t0.7071067811865475\n",
            "  (664, 28)\t1.0\n",
            "  (667, 22)\t1.0\n",
            "  (691, 34)\t1.0\n",
            "  (697, 9)\t1.0\n",
            "  (722, 16)\t1.0\n"
          ],
          "name": "stdout"
        }
      ]
    },
    {
      "cell_type": "code",
      "metadata": {
        "colab": {
          "base_uri": "https://localhost:8080/"
        },
        "id": "oEJrE1sPnlhT",
        "outputId": "4df0abe7-113c-4053-9ec3-d5f5b1a204c6"
      },
      "source": [
        "print(skloutput[0])"
      ],
      "execution_count": 26,
      "outputs": [
        {
          "output_type": "stream",
          "text": [
            "  (0, 30)\t1.0\n"
          ],
          "name": "stdout"
        }
      ]
    },
    {
      "cell_type": "code",
      "metadata": {
        "colab": {
          "base_uri": "https://localhost:8080/"
        },
        "id": "yPIsY_R-nmzn",
        "outputId": "44368f63-885f-4b6d-eb73-92ea272b7ef9"
      },
      "source": [
        "#Dense Matrix\n",
        "print(skloutput[0].toarray())\n",
        "print(skloutput[0].toarray().shape)"
      ],
      "execution_count": 27,
      "outputs": [
        {
          "output_type": "stream",
          "text": [
            "[[0. 0. 0. 0. 0. 0. 0. 0. 0. 0. 0. 0. 0. 0. 0. 0. 0. 0. 0. 0. 0. 0. 0. 0.\n",
            "  0. 0. 0. 0. 0. 0. 1. 0. 0. 0. 0. 0. 0. 0. 0. 0. 0. 0. 0. 0. 0. 0. 0. 0.\n",
            "  0. 0.]]\n",
            "(1, 50)\n"
          ],
          "name": "stdout"
        }
      ]
    },
    {
      "cell_type": "code",
      "metadata": {
        "colab": {
          "base_uri": "https://localhost:8080/"
        },
        "id": "TEW1F2JnpL5n",
        "outputId": "74666518-d263-468a-c379-4a03fe5b28d4"
      },
      "source": [
        "!git init\n"
      ],
      "execution_count": 28,
      "outputs": [
        {
          "output_type": "stream",
          "text": [
            "Initialized empty Git repository in /content/.git/\n"
          ],
          "name": "stdout"
        }
      ]
    },
    {
      "cell_type": "code",
      "metadata": {
        "id": "5YYVTM5P9NdC",
        "outputId": "81c700e7-7cda-4ab7-f876-2cf48c5a0d31",
        "colab": {
          "base_uri": "https://localhost:8080/"
        }
      },
      "source": [
        "!git log"
      ],
      "execution_count": 29,
      "outputs": [
        {
          "output_type": "stream",
          "text": [
            "fatal: your current branch 'master' does not have any commits yet\n"
          ],
          "name": "stdout"
        }
      ]
    },
    {
      "cell_type": "code",
      "metadata": {
        "id": "nwWO4eqs9RiR",
        "outputId": "937cc900-a688-4d70-e0a1-16c27eea6953",
        "colab": {
          "base_uri": "https://localhost:8080/"
        }
      },
      "source": [
        "!git status\n"
      ],
      "execution_count": 30,
      "outputs": [
        {
          "output_type": "stream",
          "text": [
            "On branch master\n",
            "\n",
            "No commits yet\n",
            "\n",
            "Untracked files:\n",
            "  (use \"git add <file>...\" to include in what will be committed)\n",
            "\n",
            "\t\u001b[31m.config/\u001b[m\n",
            "\t\u001b[31mdrive/\u001b[m\n",
            "\t\u001b[31msample_data/\u001b[m\n",
            "\n",
            "nothing added to commit but untracked files present (use \"git add\" to track)\n"
          ],
          "name": "stdout"
        }
      ]
    },
    {
      "cell_type": "code",
      "metadata": {
        "id": "nnLr6JEB9W80"
      },
      "source": [
        "!git remote add origin https://github.com/prithivi96/TF-IDF-Vectorizer.git"
      ],
      "execution_count": 31,
      "outputs": []
    },
    {
      "cell_type": "code",
      "metadata": {
        "id": "RBKKf00O9sKF",
        "outputId": "0dc2b1a5-fa75-460e-b28b-7cef85ddf476",
        "colab": {
          "base_uri": "https://localhost:8080/"
        }
      },
      "source": [
        ""
      ],
      "execution_count": 35,
      "outputs": [
        {
          "output_type": "stream",
          "text": [
            "error: pathspec 'drive' did not match any file(s) known to git.\n",
            "error: pathspec 'sample_data' did not match any file(s) known to git.\n"
          ],
          "name": "stdout"
        }
      ]
    },
    {
      "cell_type": "code",
      "metadata": {
        "id": "KYv1EqgM9za0"
      },
      "source": [
        ""
      ],
      "execution_count": null,
      "outputs": []
    }
  ]
}